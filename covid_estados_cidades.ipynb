{
  "nbformat": 4,
  "nbformat_minor": 0,
  "metadata": {
    "colab": {
      "name": "Projeto Módulo 01.ipynb",
      "provenance": [],
      "toc_visible": true,
      "include_colab_link": true
    },
    "kernelspec": {
      "name": "python3",
      "display_name": "Python 3"
    }
  },
  "cells": [
    {
      "cell_type": "markdown",
      "metadata": {
        "id": "view-in-github",
        "colab_type": "text"
      },
      "source": [
        "<a href=\"https://colab.research.google.com/github/Joaovmir/DataScience_Exercises/blob/main/covid_estados_cidades.ipynb\" target=\"_parent\"><img src=\"https://colab.research.google.com/assets/colab-badge.svg\" alt=\"Open In Colab\"/></a>"
      ]
    },
    {
      "cell_type": "markdown",
      "metadata": {
        "id": "YJaNprdeFN7n"
      },
      "source": [
        "## Análise dos dados:\n",
        "\n",
        "Análise dos dados de Covid-19"
      ]
    },
    {
      "cell_type": "markdown",
      "metadata": {
        "id": "-nM6tuQ6b7un"
      },
      "source": [
        "Import das bibliotecas usadas"
      ]
    },
    {
      "cell_type": "code",
      "metadata": {
        "id": "zw4S_LkkFNa2"
      },
      "source": [
        "import pandas as pd\r\n",
        "import matplotlib.pyplot as plt\r\n",
        "import matplotlib.ticker as ticker"
      ],
      "execution_count": 22,
      "outputs": []
    },
    {
      "cell_type": "markdown",
      "metadata": {
        "id": "gddWapjcb_11"
      },
      "source": [
        "Import dos dados a serem usados"
      ]
    },
    {
      "cell_type": "code",
      "metadata": {
        "id": "wWHrc23HMW07"
      },
      "source": [
        "dados = pd.read_csv('/content/COVID19-BRASILIO-06-11-2020.csv.gz',sep=',')"
      ],
      "execution_count": 3,
      "outputs": []
    },
    {
      "cell_type": "code",
      "metadata": {
        "id": "RAdUNwcvNQAL",
        "outputId": "a07acd03-ca57-4fbc-8541-b8fe40644829",
        "colab": {
          "base_uri": "https://localhost:8080/",
          "height": 299
        }
      },
      "source": [
        "dados.head()"
      ],
      "execution_count": 4,
      "outputs": [
        {
          "output_type": "execute_result",
          "data": {
            "text/html": [
              "<div>\n",
              "<style scoped>\n",
              "    .dataframe tbody tr th:only-of-type {\n",
              "        vertical-align: middle;\n",
              "    }\n",
              "\n",
              "    .dataframe tbody tr th {\n",
              "        vertical-align: top;\n",
              "    }\n",
              "\n",
              "    .dataframe thead th {\n",
              "        text-align: right;\n",
              "    }\n",
              "</style>\n",
              "<table border=\"1\" class=\"dataframe\">\n",
              "  <thead>\n",
              "    <tr style=\"text-align: right;\">\n",
              "      <th></th>\n",
              "      <th>date</th>\n",
              "      <th>state</th>\n",
              "      <th>city</th>\n",
              "      <th>place_type</th>\n",
              "      <th>confirmed</th>\n",
              "      <th>deaths</th>\n",
              "      <th>order_for_place</th>\n",
              "      <th>is_last</th>\n",
              "      <th>estimated_population_2019</th>\n",
              "      <th>estimated_population</th>\n",
              "      <th>city_ibge_code</th>\n",
              "      <th>confirmed_per_100k_inhabitants</th>\n",
              "      <th>death_rate</th>\n",
              "    </tr>\n",
              "  </thead>\n",
              "  <tbody>\n",
              "    <tr>\n",
              "      <th>0</th>\n",
              "      <td>2020-11-05</td>\n",
              "      <td>AC</td>\n",
              "      <td>NaN</td>\n",
              "      <td>state</td>\n",
              "      <td>31248</td>\n",
              "      <td>697</td>\n",
              "      <td>234</td>\n",
              "      <td>True</td>\n",
              "      <td>881935.0</td>\n",
              "      <td>894470.0</td>\n",
              "      <td>12.0</td>\n",
              "      <td>3493.46540</td>\n",
              "      <td>0.0223</td>\n",
              "    </tr>\n",
              "    <tr>\n",
              "      <th>1</th>\n",
              "      <td>2020-11-04</td>\n",
              "      <td>AC</td>\n",
              "      <td>NaN</td>\n",
              "      <td>state</td>\n",
              "      <td>31218</td>\n",
              "      <td>696</td>\n",
              "      <td>233</td>\n",
              "      <td>False</td>\n",
              "      <td>881935.0</td>\n",
              "      <td>894470.0</td>\n",
              "      <td>12.0</td>\n",
              "      <td>3490.11146</td>\n",
              "      <td>0.0223</td>\n",
              "    </tr>\n",
              "    <tr>\n",
              "      <th>2</th>\n",
              "      <td>2020-11-03</td>\n",
              "      <td>AC</td>\n",
              "      <td>NaN</td>\n",
              "      <td>state</td>\n",
              "      <td>30962</td>\n",
              "      <td>695</td>\n",
              "      <td>232</td>\n",
              "      <td>False</td>\n",
              "      <td>881935.0</td>\n",
              "      <td>894470.0</td>\n",
              "      <td>12.0</td>\n",
              "      <td>3461.49116</td>\n",
              "      <td>0.0224</td>\n",
              "    </tr>\n",
              "    <tr>\n",
              "      <th>3</th>\n",
              "      <td>2020-11-02</td>\n",
              "      <td>AC</td>\n",
              "      <td>NaN</td>\n",
              "      <td>state</td>\n",
              "      <td>30954</td>\n",
              "      <td>693</td>\n",
              "      <td>231</td>\n",
              "      <td>False</td>\n",
              "      <td>881935.0</td>\n",
              "      <td>894470.0</td>\n",
              "      <td>12.0</td>\n",
              "      <td>3460.59678</td>\n",
              "      <td>0.0224</td>\n",
              "    </tr>\n",
              "    <tr>\n",
              "      <th>4</th>\n",
              "      <td>2020-11-01</td>\n",
              "      <td>AC</td>\n",
              "      <td>NaN</td>\n",
              "      <td>state</td>\n",
              "      <td>30951</td>\n",
              "      <td>693</td>\n",
              "      <td>230</td>\n",
              "      <td>False</td>\n",
              "      <td>881935.0</td>\n",
              "      <td>894470.0</td>\n",
              "      <td>12.0</td>\n",
              "      <td>3460.26138</td>\n",
              "      <td>0.0224</td>\n",
              "    </tr>\n",
              "  </tbody>\n",
              "</table>\n",
              "</div>"
            ],
            "text/plain": [
              "         date state  ... confirmed_per_100k_inhabitants death_rate\n",
              "0  2020-11-05    AC  ...                     3493.46540     0.0223\n",
              "1  2020-11-04    AC  ...                     3490.11146     0.0223\n",
              "2  2020-11-03    AC  ...                     3461.49116     0.0224\n",
              "3  2020-11-02    AC  ...                     3460.59678     0.0224\n",
              "4  2020-11-01    AC  ...                     3460.26138     0.0224\n",
              "\n",
              "[5 rows x 13 columns]"
            ]
          },
          "metadata": {
            "tags": []
          },
          "execution_count": 4
        }
      ]
    },
    {
      "cell_type": "markdown",
      "metadata": {
        "id": "a1cbTUh4cDme"
      },
      "source": [
        "Número de linhas e colunas"
      ]
    },
    {
      "cell_type": "code",
      "metadata": {
        "id": "ormyJ7g7NShj",
        "outputId": "34e23790-556b-4e89-adf4-a76d8631d680",
        "colab": {
          "base_uri": "https://localhost:8080/"
        }
      },
      "source": [
        "dados.shape"
      ],
      "execution_count": 5,
      "outputs": [
        {
          "output_type": "execute_result",
          "data": {
            "text/plain": [
              "(936870, 13)"
            ]
          },
          "metadata": {
            "tags": []
          },
          "execution_count": 5
        }
      ]
    },
    {
      "cell_type": "markdown",
      "metadata": {
        "id": "1pSsH-6jcGVP"
      },
      "source": [
        "Número de dados nulos em cada coluna"
      ]
    },
    {
      "cell_type": "code",
      "metadata": {
        "id": "wRprgP0ANZFd",
        "outputId": "0896d02c-847b-441e-c0b1-5bed2005f47b",
        "colab": {
          "base_uri": "https://localhost:8080/"
        }
      },
      "source": [
        "dados.isnull().sum()"
      ],
      "execution_count": 6,
      "outputs": [
        {
          "output_type": "execute_result",
          "data": {
            "text/plain": [
              "date                                  0\n",
              "state                                 0\n",
              "city                               6335\n",
              "place_type                            0\n",
              "confirmed                             0\n",
              "deaths                                0\n",
              "order_for_place                       0\n",
              "is_last                               0\n",
              "estimated_population_2019          3655\n",
              "estimated_population               3655\n",
              "city_ibge_code                     3655\n",
              "confirmed_per_100k_inhabitants    16982\n",
              "death_rate                            0\n",
              "dtype: int64"
            ]
          },
          "metadata": {
            "tags": []
          },
          "execution_count": 6
        }
      ]
    },
    {
      "cell_type": "markdown",
      "metadata": {
        "id": "F85ixMf1cLqe"
      },
      "source": [
        "Tentativa de encontrar o número de mortes por estado\r\n",
        "\r\n",
        "Inicialmente tentei somar a quantidade de mortes agrupadas em cada estado, mas a coluna Deaths mostra o total acumulado, então utilizei a função max.\r\n",
        "\r\n",
        "Mas cada registro é de uma cidade, então o que essa análise sugere é que esse é o número de mortes pela maior cidade de cada estado."
      ]
    },
    {
      "cell_type": "code",
      "metadata": {
        "id": "CV72GixyNogT",
        "outputId": "22bc2231-6b71-43e2-c71a-5b5ee7124f5c",
        "colab": {
          "base_uri": "https://localhost:8080/",
          "height": 876
        }
      },
      "source": [
        "estados = dados[['state','deaths']].groupby('state').max('deaths') \r\n",
        "estados"
      ],
      "execution_count": 80,
      "outputs": [
        {
          "output_type": "execute_result",
          "data": {
            "text/html": [
              "<div>\n",
              "<style scoped>\n",
              "    .dataframe tbody tr th:only-of-type {\n",
              "        vertical-align: middle;\n",
              "    }\n",
              "\n",
              "    .dataframe tbody tr th {\n",
              "        vertical-align: top;\n",
              "    }\n",
              "\n",
              "    .dataframe thead th {\n",
              "        text-align: right;\n",
              "    }\n",
              "</style>\n",
              "<table border=\"1\" class=\"dataframe\">\n",
              "  <thead>\n",
              "    <tr style=\"text-align: right;\">\n",
              "      <th></th>\n",
              "      <th>deaths</th>\n",
              "    </tr>\n",
              "    <tr>\n",
              "      <th>state</th>\n",
              "      <th></th>\n",
              "    </tr>\n",
              "  </thead>\n",
              "  <tbody>\n",
              "    <tr>\n",
              "      <th>AC</th>\n",
              "      <td>697</td>\n",
              "    </tr>\n",
              "    <tr>\n",
              "      <th>AL</th>\n",
              "      <td>2258</td>\n",
              "    </tr>\n",
              "    <tr>\n",
              "      <th>AM</th>\n",
              "      <td>4607</td>\n",
              "    </tr>\n",
              "    <tr>\n",
              "      <th>AP</th>\n",
              "      <td>751</td>\n",
              "    </tr>\n",
              "    <tr>\n",
              "      <th>BA</th>\n",
              "      <td>7731</td>\n",
              "    </tr>\n",
              "    <tr>\n",
              "      <th>CE</th>\n",
              "      <td>9392</td>\n",
              "    </tr>\n",
              "    <tr>\n",
              "      <th>DF</th>\n",
              "      <td>3728</td>\n",
              "    </tr>\n",
              "    <tr>\n",
              "      <th>ES</th>\n",
              "      <td>3896</td>\n",
              "    </tr>\n",
              "    <tr>\n",
              "      <th>GO</th>\n",
              "      <td>5869</td>\n",
              "    </tr>\n",
              "    <tr>\n",
              "      <th>MA</th>\n",
              "      <td>4101</td>\n",
              "    </tr>\n",
              "    <tr>\n",
              "      <th>MG</th>\n",
              "      <td>9128</td>\n",
              "    </tr>\n",
              "    <tr>\n",
              "      <th>MS</th>\n",
              "      <td>1629</td>\n",
              "    </tr>\n",
              "    <tr>\n",
              "      <th>MT</th>\n",
              "      <td>3896</td>\n",
              "    </tr>\n",
              "    <tr>\n",
              "      <th>PA</th>\n",
              "      <td>6779</td>\n",
              "    </tr>\n",
              "    <tr>\n",
              "      <th>PB</th>\n",
              "      <td>3138</td>\n",
              "    </tr>\n",
              "    <tr>\n",
              "      <th>PE</th>\n",
              "      <td>8687</td>\n",
              "    </tr>\n",
              "    <tr>\n",
              "      <th>PI</th>\n",
              "      <td>2459</td>\n",
              "    </tr>\n",
              "    <tr>\n",
              "      <th>PR</th>\n",
              "      <td>5293</td>\n",
              "    </tr>\n",
              "    <tr>\n",
              "      <th>RJ</th>\n",
              "      <td>20849</td>\n",
              "    </tr>\n",
              "    <tr>\n",
              "      <th>RN</th>\n",
              "      <td>2603</td>\n",
              "    </tr>\n",
              "    <tr>\n",
              "      <th>RO</th>\n",
              "      <td>1470</td>\n",
              "    </tr>\n",
              "    <tr>\n",
              "      <th>RR</th>\n",
              "      <td>695</td>\n",
              "    </tr>\n",
              "    <tr>\n",
              "      <th>RS</th>\n",
              "      <td>5954</td>\n",
              "    </tr>\n",
              "    <tr>\n",
              "      <th>SC</th>\n",
              "      <td>3173</td>\n",
              "    </tr>\n",
              "    <tr>\n",
              "      <th>SE</th>\n",
              "      <td>2231</td>\n",
              "    </tr>\n",
              "    <tr>\n",
              "      <th>SP</th>\n",
              "      <td>39717</td>\n",
              "    </tr>\n",
              "    <tr>\n",
              "      <th>TO</th>\n",
              "      <td>1108</td>\n",
              "    </tr>\n",
              "  </tbody>\n",
              "</table>\n",
              "</div>"
            ],
            "text/plain": [
              "       deaths\n",
              "state        \n",
              "AC        697\n",
              "AL       2258\n",
              "AM       4607\n",
              "AP        751\n",
              "BA       7731\n",
              "CE       9392\n",
              "DF       3728\n",
              "ES       3896\n",
              "GO       5869\n",
              "MA       4101\n",
              "MG       9128\n",
              "MS       1629\n",
              "MT       3896\n",
              "PA       6779\n",
              "PB       3138\n",
              "PE       8687\n",
              "PI       2459\n",
              "PR       5293\n",
              "RJ      20849\n",
              "RN       2603\n",
              "RO       1470\n",
              "RR        695\n",
              "RS       5954\n",
              "SC       3173\n",
              "SE       2231\n",
              "SP      39717\n",
              "TO       1108"
            ]
          },
          "metadata": {
            "tags": []
          },
          "execution_count": 80
        }
      ]
    },
    {
      "cell_type": "markdown",
      "metadata": {
        "id": "ER8ShAP1dFLR"
      },
      "source": [
        "Colocando os dados em ordem do maior valor para o menor"
      ]
    },
    {
      "cell_type": "code",
      "metadata": {
        "id": "_uIfr5ZYPvru"
      },
      "source": [
        "estados = estados.sort_values('deaths',ascending=False)"
      ],
      "execution_count": 33,
      "outputs": []
    },
    {
      "cell_type": "code",
      "metadata": {
        "id": "G6l1qeExO3LQ",
        "outputId": "d5c6ff6a-2ed5-4aea-d573-254da06c7622",
        "colab": {
          "base_uri": "https://localhost:8080/",
          "height": 519
        }
      },
      "source": [
        "ax = estados.plot(kind='bar', figsize=(10,8))\r\n",
        "ax.yaxis.set_major_formatter(ticker.StrMethodFormatter(\"{x:,.2f}\"))\r\n",
        "plt.title('Número de mortes total pela maior cidade de cada estado')\r\n",
        "plt.show()"
      ],
      "execution_count": 77,
      "outputs": [
        {
          "output_type": "display_data",
          "data": {
            "image/png": "[encoded data removed]",
            "text/plain": [
              "<Figure size 720x576 with 1 Axes>"
            ]
          },
          "metadata": {
            "tags": [],
            "needs_background": "light"
          }
        }
      ]
    },
    {
      "cell_type": "markdown",
      "metadata": {
        "id": "wr1HVlUCdKyn"
      },
      "source": [
        "Selecionando agora os últimos dados que foram inseridos através da coluna is_last"
      ]
    },
    {
      "cell_type": "code",
      "metadata": {
        "id": "DOllpHX7Pl7Y"
      },
      "source": [
        "ultimos_dados = dados.loc[dados['is_last']==True]"
      ],
      "execution_count": 48,
      "outputs": []
    },
    {
      "cell_type": "code",
      "metadata": {
        "id": "BFrzkPIVYNoT",
        "outputId": "a65f6f5c-ff46-4eb8-a05c-6a84b2c778ca",
        "colab": {
          "base_uri": "https://localhost:8080/",
          "height": 590
        }
      },
      "source": [
        "ultimos_dados"
      ],
      "execution_count": 52,
      "outputs": [
        {
          "output_type": "execute_result",
          "data": {
            "text/html": [
              "<div>\n",
              "<style scoped>\n",
              "    .dataframe tbody tr th:only-of-type {\n",
              "        vertical-align: middle;\n",
              "    }\n",
              "\n",
              "    .dataframe tbody tr th {\n",
              "        vertical-align: top;\n",
              "    }\n",
              "\n",
              "    .dataframe thead th {\n",
              "        text-align: right;\n",
              "    }\n",
              "</style>\n",
              "<table border=\"1\" class=\"dataframe\">\n",
              "  <thead>\n",
              "    <tr style=\"text-align: right;\">\n",
              "      <th></th>\n",
              "      <th>date</th>\n",
              "      <th>state</th>\n",
              "      <th>city</th>\n",
              "      <th>place_type</th>\n",
              "      <th>confirmed</th>\n",
              "      <th>deaths</th>\n",
              "      <th>order_for_place</th>\n",
              "      <th>is_last</th>\n",
              "      <th>estimated_population_2019</th>\n",
              "      <th>estimated_population</th>\n",
              "      <th>city_ibge_code</th>\n",
              "      <th>confirmed_per_100k_inhabitants</th>\n",
              "      <th>death_rate</th>\n",
              "    </tr>\n",
              "  </thead>\n",
              "  <tbody>\n",
              "    <tr>\n",
              "      <th>0</th>\n",
              "      <td>2020-11-05</td>\n",
              "      <td>AC</td>\n",
              "      <td>NaN</td>\n",
              "      <td>state</td>\n",
              "      <td>31248</td>\n",
              "      <td>697</td>\n",
              "      <td>234</td>\n",
              "      <td>True</td>\n",
              "      <td>881935.0</td>\n",
              "      <td>894470.0</td>\n",
              "      <td>12.0</td>\n",
              "      <td>3493.46540</td>\n",
              "      <td>0.0223</td>\n",
              "    </tr>\n",
              "    <tr>\n",
              "      <th>234</th>\n",
              "      <td>2020-11-05</td>\n",
              "      <td>AC</td>\n",
              "      <td>Acrelândia</td>\n",
              "      <td>city</td>\n",
              "      <td>492</td>\n",
              "      <td>11</td>\n",
              "      <td>211</td>\n",
              "      <td>True</td>\n",
              "      <td>15256.0</td>\n",
              "      <td>15490.0</td>\n",
              "      <td>1200013.0</td>\n",
              "      <td>3176.24274</td>\n",
              "      <td>0.0224</td>\n",
              "    </tr>\n",
              "    <tr>\n",
              "      <th>445</th>\n",
              "      <td>2020-11-05</td>\n",
              "      <td>AC</td>\n",
              "      <td>Assis Brasil</td>\n",
              "      <td>city</td>\n",
              "      <td>711</td>\n",
              "      <td>9</td>\n",
              "      <td>178</td>\n",
              "      <td>True</td>\n",
              "      <td>7417.0</td>\n",
              "      <td>7534.0</td>\n",
              "      <td>1200054.0</td>\n",
              "      <td>9437.21795</td>\n",
              "      <td>0.0127</td>\n",
              "    </tr>\n",
              "    <tr>\n",
              "      <th>623</th>\n",
              "      <td>2020-11-05</td>\n",
              "      <td>AC</td>\n",
              "      <td>Brasiléia</td>\n",
              "      <td>city</td>\n",
              "      <td>1188</td>\n",
              "      <td>19</td>\n",
              "      <td>170</td>\n",
              "      <td>True</td>\n",
              "      <td>26278.0</td>\n",
              "      <td>26702.0</td>\n",
              "      <td>1200104.0</td>\n",
              "      <td>4449.10494</td>\n",
              "      <td>0.0160</td>\n",
              "    </tr>\n",
              "    <tr>\n",
              "      <th>793</th>\n",
              "      <td>2020-11-05</td>\n",
              "      <td>AC</td>\n",
              "      <td>Bujari</td>\n",
              "      <td>city</td>\n",
              "      <td>406</td>\n",
              "      <td>7</td>\n",
              "      <td>201</td>\n",
              "      <td>True</td>\n",
              "      <td>10266.0</td>\n",
              "      <td>10420.0</td>\n",
              "      <td>1200138.0</td>\n",
              "      <td>3896.35317</td>\n",
              "      <td>0.0172</td>\n",
              "    </tr>\n",
              "    <tr>\n",
              "      <th>...</th>\n",
              "      <td>...</td>\n",
              "      <td>...</td>\n",
              "      <td>...</td>\n",
              "      <td>...</td>\n",
              "      <td>...</td>\n",
              "      <td>...</td>\n",
              "      <td>...</td>\n",
              "      <td>...</td>\n",
              "      <td>...</td>\n",
              "      <td>...</td>\n",
              "      <td>...</td>\n",
              "      <td>...</td>\n",
              "      <td>...</td>\n",
              "    </tr>\n",
              "    <tr>\n",
              "      <th>936030</th>\n",
              "      <td>2020-11-05</td>\n",
              "      <td>SP</td>\n",
              "      <td>Águas de São Pedro</td>\n",
              "      <td>city</td>\n",
              "      <td>61</td>\n",
              "      <td>1</td>\n",
              "      <td>201</td>\n",
              "      <td>True</td>\n",
              "      <td>3451.0</td>\n",
              "      <td>3521.0</td>\n",
              "      <td>3500600.0</td>\n",
              "      <td>1732.46237</td>\n",
              "      <td>0.0164</td>\n",
              "    </tr>\n",
              "    <tr>\n",
              "      <th>936231</th>\n",
              "      <td>2020-11-05</td>\n",
              "      <td>SP</td>\n",
              "      <td>Álvares Florence</td>\n",
              "      <td>city</td>\n",
              "      <td>74</td>\n",
              "      <td>5</td>\n",
              "      <td>152</td>\n",
              "      <td>True</td>\n",
              "      <td>3679.0</td>\n",
              "      <td>3647.0</td>\n",
              "      <td>3501202.0</td>\n",
              "      <td>2029.06498</td>\n",
              "      <td>0.0676</td>\n",
              "    </tr>\n",
              "    <tr>\n",
              "      <th>936383</th>\n",
              "      <td>2020-11-05</td>\n",
              "      <td>SP</td>\n",
              "      <td>Álvares Machado</td>\n",
              "      <td>city</td>\n",
              "      <td>281</td>\n",
              "      <td>8</td>\n",
              "      <td>183</td>\n",
              "      <td>True</td>\n",
              "      <td>24915.0</td>\n",
              "      <td>24998.0</td>\n",
              "      <td>3501301.0</td>\n",
              "      <td>1124.08993</td>\n",
              "      <td>0.0285</td>\n",
              "    </tr>\n",
              "    <tr>\n",
              "      <th>936566</th>\n",
              "      <td>2020-11-05</td>\n",
              "      <td>SP</td>\n",
              "      <td>Álvaro de Carvalho</td>\n",
              "      <td>city</td>\n",
              "      <td>26</td>\n",
              "      <td>4</td>\n",
              "      <td>173</td>\n",
              "      <td>True</td>\n",
              "      <td>5227.0</td>\n",
              "      <td>5274.0</td>\n",
              "      <td>3501400.0</td>\n",
              "      <td>492.98445</td>\n",
              "      <td>0.1538</td>\n",
              "    </tr>\n",
              "    <tr>\n",
              "      <th>936739</th>\n",
              "      <td>2020-11-05</td>\n",
              "      <td>SP</td>\n",
              "      <td>Óleo</td>\n",
              "      <td>city</td>\n",
              "      <td>6</td>\n",
              "      <td>0</td>\n",
              "      <td>131</td>\n",
              "      <td>True</td>\n",
              "      <td>2496.0</td>\n",
              "      <td>2471.0</td>\n",
              "      <td>3533809.0</td>\n",
              "      <td>242.81667</td>\n",
              "      <td>0.0000</td>\n",
              "    </tr>\n",
              "  </tbody>\n",
              "</table>\n",
              "<p>5613 rows × 13 columns</p>\n",
              "</div>"
            ],
            "text/plain": [
              "              date state  ... confirmed_per_100k_inhabitants death_rate\n",
              "0       2020-11-05    AC  ...                     3493.46540     0.0223\n",
              "234     2020-11-05    AC  ...                     3176.24274     0.0224\n",
              "445     2020-11-05    AC  ...                     9437.21795     0.0127\n",
              "623     2020-11-05    AC  ...                     4449.10494     0.0160\n",
              "793     2020-11-05    AC  ...                     3896.35317     0.0172\n",
              "...            ...   ...  ...                            ...        ...\n",
              "936030  2020-11-05    SP  ...                     1732.46237     0.0164\n",
              "936231  2020-11-05    SP  ...                     2029.06498     0.0676\n",
              "936383  2020-11-05    SP  ...                     1124.08993     0.0285\n",
              "936566  2020-11-05    SP  ...                      492.98445     0.1538\n",
              "936739  2020-11-05    SP  ...                      242.81667     0.0000\n",
              "\n",
              "[5613 rows x 13 columns]"
            ]
          },
          "metadata": {
            "tags": []
          },
          "execution_count": 52
        }
      ]
    },
    {
      "cell_type": "markdown",
      "metadata": {
        "id": "Bhi_eO79dUhY"
      },
      "source": [
        "Número de linhas e colunas"
      ]
    },
    {
      "cell_type": "code",
      "metadata": {
        "id": "bhSPE3Z9aKTL",
        "outputId": "892322e3-1545-454b-b148-0e250f28b7bc",
        "colab": {
          "base_uri": "https://localhost:8080/"
        }
      },
      "source": [
        "ultimos_dados.shape"
      ],
      "execution_count": 67,
      "outputs": [
        {
          "output_type": "execute_result",
          "data": {
            "text/plain": [
              "(5613, 13)"
            ]
          },
          "metadata": {
            "tags": []
          },
          "execution_count": 67
        }
      ]
    },
    {
      "cell_type": "markdown",
      "metadata": {
        "id": "OiBApXtfdYC8"
      },
      "source": [
        "Um resumo da taxa de morte dos últimos dados, há um valor com taxa de morte de 1, o que atrapalha na análise dos dados por fugir muito da média geral dos dados"
      ]
    },
    {
      "cell_type": "code",
      "metadata": {
        "id": "vDGqQo8VYRCE",
        "outputId": "d1e5af5e-36af-4b33-810a-d7324a136954",
        "colab": {
          "base_uri": "https://localhost:8080/"
        }
      },
      "source": [
        "ultimos_dados['death_rate'].describe()"
      ],
      "execution_count": 53,
      "outputs": [
        {
          "output_type": "execute_result",
          "data": {
            "text/plain": [
              "count    5613.000000\n",
              "mean        0.025617\n",
              "std         0.031978\n",
              "min         0.000000\n",
              "25%         0.009700\n",
              "50%         0.020000\n",
              "75%         0.032400\n",
              "max         1.000000\n",
              "Name: death_rate, dtype: float64"
            ]
          },
          "metadata": {
            "tags": []
          },
          "execution_count": 53
        }
      ]
    },
    {
      "cell_type": "markdown",
      "metadata": {
        "id": "xtvqBvPqduqT"
      },
      "source": [
        "Isso pode ser checado através do Boxplot abaixo"
      ]
    },
    {
      "cell_type": "code",
      "metadata": {
        "id": "BXsIFaOmaT9b",
        "outputId": "0c6ccaa7-5053-4920-f046-f8f9aefd9d83",
        "colab": {
          "base_uri": "https://localhost:8080/",
          "height": 283
        }
      },
      "source": [
        "ultimos_dados['death_rate'].plot(kind='box')"
      ],
      "execution_count": 70,
      "outputs": [
        {
          "output_type": "execute_result",
          "data": {
            "text/plain": [
              "<matplotlib.axes._subplots.AxesSubplot at 0x7fdef72d4fd0>"
            ]
          },
          "metadata": {
            "tags": []
          },
          "execution_count": 70
        },
        {
          "output_type": "display_data",
          "data": {
            "image/png": "[encoded data removed]",
            "text/plain": [
              "<Figure size 432x288 with 1 Axes>"
            ]
          },
          "metadata": {
            "tags": [],
            "needs_background": "light"
          }
        }
      ]
    },
    {
      "cell_type": "markdown",
      "metadata": {
        "id": "2_x2MceCdy_z"
      },
      "source": [
        "Encontrando o registro que possui a taxa de morte = 1 e removendo ele do conjunto de dados, repare que a cidade se chama Importados/Indefinidos"
      ]
    },
    {
      "cell_type": "code",
      "metadata": {
        "id": "AcDwUNYaasHy",
        "outputId": "90781645-9847-4dc5-c3f7-b39960180491",
        "colab": {
          "base_uri": "https://localhost:8080/",
          "height": 114
        }
      },
      "source": [
        "ultimos_dados.loc[ultimos_dados['death_rate']==1]"
      ],
      "execution_count": 72,
      "outputs": [
        {
          "output_type": "execute_result",
          "data": {
            "text/html": [
              "<div>\n",
              "<style scoped>\n",
              "    .dataframe tbody tr th:only-of-type {\n",
              "        vertical-align: middle;\n",
              "    }\n",
              "\n",
              "    .dataframe tbody tr th {\n",
              "        vertical-align: top;\n",
              "    }\n",
              "\n",
              "    .dataframe thead th {\n",
              "        text-align: right;\n",
              "    }\n",
              "</style>\n",
              "<table border=\"1\" class=\"dataframe\">\n",
              "  <thead>\n",
              "    <tr style=\"text-align: right;\">\n",
              "      <th></th>\n",
              "      <th>date</th>\n",
              "      <th>state</th>\n",
              "      <th>city</th>\n",
              "      <th>place_type</th>\n",
              "      <th>confirmed</th>\n",
              "      <th>deaths</th>\n",
              "      <th>order_for_place</th>\n",
              "      <th>is_last</th>\n",
              "      <th>estimated_population_2019</th>\n",
              "      <th>estimated_population</th>\n",
              "      <th>city_ibge_code</th>\n",
              "      <th>confirmed_per_100k_inhabitants</th>\n",
              "      <th>death_rate</th>\n",
              "    </tr>\n",
              "  </thead>\n",
              "  <tbody>\n",
              "    <tr>\n",
              "      <th>26192</th>\n",
              "      <td>2020-11-02</td>\n",
              "      <td>AL</td>\n",
              "      <td>Importados/Indefinidos</td>\n",
              "      <td>city</td>\n",
              "      <td>8</td>\n",
              "      <td>8</td>\n",
              "      <td>219</td>\n",
              "      <td>True</td>\n",
              "      <td>NaN</td>\n",
              "      <td>NaN</td>\n",
              "      <td>NaN</td>\n",
              "      <td>NaN</td>\n",
              "      <td>1.0</td>\n",
              "    </tr>\n",
              "  </tbody>\n",
              "</table>\n",
              "</div>"
            ],
            "text/plain": [
              "             date state  ... confirmed_per_100k_inhabitants death_rate\n",
              "26192  2020-11-02    AL  ...                            NaN        1.0\n",
              "\n",
              "[1 rows x 13 columns]"
            ]
          },
          "metadata": {
            "tags": []
          },
          "execution_count": 72
        }
      ]
    },
    {
      "cell_type": "code",
      "metadata": {
        "id": "3PKdbBPlbFKQ"
      },
      "source": [
        "ultimos_dados = ultimos_dados.drop(26192)"
      ],
      "execution_count": 73,
      "outputs": []
    },
    {
      "cell_type": "code",
      "metadata": {
        "id": "--IYu4QqbRiQ",
        "outputId": "b7b11068-4af2-4713-94a3-7e45c0ab1bd5",
        "colab": {
          "base_uri": "https://localhost:8080/"
        }
      },
      "source": [
        "ultimos_dados['death_rate'].describe()"
      ],
      "execution_count": 75,
      "outputs": [
        {
          "output_type": "execute_result",
          "data": {
            "text/plain": [
              "count    5612.000000\n",
              "mean        0.025444\n",
              "std         0.029216\n",
              "min         0.000000\n",
              "25%         0.009700\n",
              "50%         0.020000\n",
              "75%         0.032400\n",
              "max         0.500000\n",
              "Name: death_rate, dtype: float64"
            ]
          },
          "metadata": {
            "tags": []
          },
          "execution_count": 75
        }
      ]
    },
    {
      "cell_type": "markdown",
      "metadata": {
        "id": "1M-J8S9Dd_tG"
      },
      "source": [
        "Ainda há muitos valores discrepantes em relação à média das cidades no geral no país"
      ]
    },
    {
      "cell_type": "code",
      "metadata": {
        "id": "G5pllkxLbXVE",
        "outputId": "f5e96f61-6317-4c15-b4a1-5dea2eade954",
        "colab": {
          "base_uri": "https://localhost:8080/",
          "height": 283
        }
      },
      "source": [
        "ultimos_dados['death_rate'].plot(kind='box')"
      ],
      "execution_count": 76,
      "outputs": [
        {
          "output_type": "execute_result",
          "data": {
            "text/plain": [
              "<matplotlib.axes._subplots.AxesSubplot at 0x7fdef74370b8>"
            ]
          },
          "metadata": {
            "tags": []
          },
          "execution_count": 76
        },
        {
          "output_type": "display_data",
          "data": {
            "image/png": "[encoded data removed]",
            "text/plain": [
              "<Figure size 432x288 with 1 Axes>"
            ]
          },
          "metadata": {
            "tags": [],
            "needs_background": "light"
          }
        }
      ]
    },
    {
      "cell_type": "markdown",
      "metadata": {
        "id": "pvTOplkmeH_8"
      },
      "source": [
        "Selecionando agora a soma de todos os últimos registros agrupado por estados"
      ]
    },
    {
      "cell_type": "code",
      "metadata": {
        "id": "KNGO237IVdM-",
        "outputId": "484077c9-e541-4149-d56f-d766079fb215",
        "colab": {
          "base_uri": "https://localhost:8080/",
          "height": 876
        }
      },
      "source": [
        "estados2 = ultimos_dados[['state','deaths']].groupby('state').sum('deaths')\r\n",
        "estados2"
      ],
      "execution_count": 56,
      "outputs": [
        {
          "output_type": "execute_result",
          "data": {
            "text/html": [
              "<div>\n",
              "<style scoped>\n",
              "    .dataframe tbody tr th:only-of-type {\n",
              "        vertical-align: middle;\n",
              "    }\n",
              "\n",
              "    .dataframe tbody tr th {\n",
              "        vertical-align: top;\n",
              "    }\n",
              "\n",
              "    .dataframe thead th {\n",
              "        text-align: right;\n",
              "    }\n",
              "</style>\n",
              "<table border=\"1\" class=\"dataframe\">\n",
              "  <thead>\n",
              "    <tr style=\"text-align: right;\">\n",
              "      <th></th>\n",
              "      <th>deaths</th>\n",
              "    </tr>\n",
              "    <tr>\n",
              "      <th>state</th>\n",
              "      <th></th>\n",
              "    </tr>\n",
              "  </thead>\n",
              "  <tbody>\n",
              "    <tr>\n",
              "      <th>AC</th>\n",
              "      <td>1394</td>\n",
              "    </tr>\n",
              "    <tr>\n",
              "      <th>AL</th>\n",
              "      <td>4504</td>\n",
              "    </tr>\n",
              "    <tr>\n",
              "      <th>AM</th>\n",
              "      <td>9172</td>\n",
              "    </tr>\n",
              "    <tr>\n",
              "      <th>AP</th>\n",
              "      <td>1500</td>\n",
              "    </tr>\n",
              "    <tr>\n",
              "      <th>BA</th>\n",
              "      <td>15462</td>\n",
              "    </tr>\n",
              "    <tr>\n",
              "      <th>CE</th>\n",
              "      <td>18784</td>\n",
              "    </tr>\n",
              "    <tr>\n",
              "      <th>DF</th>\n",
              "      <td>7447</td>\n",
              "    </tr>\n",
              "    <tr>\n",
              "      <th>ES</th>\n",
              "      <td>7388</td>\n",
              "    </tr>\n",
              "    <tr>\n",
              "      <th>GO</th>\n",
              "      <td>11738</td>\n",
              "    </tr>\n",
              "    <tr>\n",
              "      <th>MA</th>\n",
              "      <td>8202</td>\n",
              "    </tr>\n",
              "    <tr>\n",
              "      <th>MG</th>\n",
              "      <td>18197</td>\n",
              "    </tr>\n",
              "    <tr>\n",
              "      <th>MS</th>\n",
              "      <td>3199</td>\n",
              "    </tr>\n",
              "    <tr>\n",
              "      <th>MT</th>\n",
              "      <td>6100</td>\n",
              "    </tr>\n",
              "    <tr>\n",
              "      <th>PA</th>\n",
              "      <td>13558</td>\n",
              "    </tr>\n",
              "    <tr>\n",
              "      <th>PB</th>\n",
              "      <td>6268</td>\n",
              "    </tr>\n",
              "    <tr>\n",
              "      <th>PE</th>\n",
              "      <td>17354</td>\n",
              "    </tr>\n",
              "    <tr>\n",
              "      <th>PI</th>\n",
              "      <td>4918</td>\n",
              "    </tr>\n",
              "    <tr>\n",
              "      <th>PR</th>\n",
              "      <td>10377</td>\n",
              "    </tr>\n",
              "    <tr>\n",
              "      <th>RJ</th>\n",
              "      <td>41225</td>\n",
              "    </tr>\n",
              "    <tr>\n",
              "      <th>RN</th>\n",
              "      <td>5164</td>\n",
              "    </tr>\n",
              "    <tr>\n",
              "      <th>RO</th>\n",
              "      <td>2930</td>\n",
              "    </tr>\n",
              "    <tr>\n",
              "      <th>RR</th>\n",
              "      <td>1390</td>\n",
              "    </tr>\n",
              "    <tr>\n",
              "      <th>RS</th>\n",
              "      <td>11908</td>\n",
              "    </tr>\n",
              "    <tr>\n",
              "      <th>SC</th>\n",
              "      <td>6336</td>\n",
              "    </tr>\n",
              "    <tr>\n",
              "      <th>SE</th>\n",
              "      <td>4462</td>\n",
              "    </tr>\n",
              "    <tr>\n",
              "      <th>SP</th>\n",
              "      <td>79434</td>\n",
              "    </tr>\n",
              "    <tr>\n",
              "      <th>TO</th>\n",
              "      <td>2216</td>\n",
              "    </tr>\n",
              "  </tbody>\n",
              "</table>\n",
              "</div>"
            ],
            "text/plain": [
              "       deaths\n",
              "state        \n",
              "AC       1394\n",
              "AL       4504\n",
              "AM       9172\n",
              "AP       1500\n",
              "BA      15462\n",
              "CE      18784\n",
              "DF       7447\n",
              "ES       7388\n",
              "GO      11738\n",
              "MA       8202\n",
              "MG      18197\n",
              "MS       3199\n",
              "MT       6100\n",
              "PA      13558\n",
              "PB       6268\n",
              "PE      17354\n",
              "PI       4918\n",
              "PR      10377\n",
              "RJ      41225\n",
              "RN       5164\n",
              "RO       2930\n",
              "RR       1390\n",
              "RS      11908\n",
              "SC       6336\n",
              "SE       4462\n",
              "SP      79434\n",
              "TO       2216"
            ]
          },
          "metadata": {
            "tags": []
          },
          "execution_count": 56
        }
      ]
    },
    {
      "cell_type": "code",
      "metadata": {
        "id": "_GFE3_neYwqe"
      },
      "source": [
        "estados2 = estados2.sort_values('deaths',ascending=False)"
      ],
      "execution_count": 57,
      "outputs": []
    },
    {
      "cell_type": "code",
      "metadata": {
        "id": "JoF7J0EhW8Dq",
        "outputId": "90bbc3bb-d16b-4f32-b3df-2f7b71d9b997",
        "colab": {
          "base_uri": "https://localhost:8080/",
          "height": 519
        }
      },
      "source": [
        "ax = estados2.plot(kind='bar',figsize=(10,8),xlabel='Estados')\r\n",
        "plt.title('Mortes totais por estados')\r\n",
        "plt.legend(labels=['Mortes totais'],loc='best')\r\n",
        "plt.show()"
      ],
      "execution_count": 66,
      "outputs": [
        {
          "output_type": "display_data",
          "data": {
            "image/png": "[encoded data removed]",
            "text/plain": [
              "<Figure size 720x576 with 1 Axes>"
            ]
          },
          "metadata": {
            "tags": [],
            "needs_background": "light"
          }
        }
      ]
    },
    {
      "cell_type": "markdown",
      "metadata": {
        "id": "eFMzDEeEbnc-"
      },
      "source": [
        "# Análise da taxa de morte entre as cidades mais populosas"
      ]
    },
    {
      "cell_type": "code",
      "metadata": {
        "id": "8iQ3oyQdbmgq"
      },
      "source": [
        "dados_limpos = ultimos_dados.dropna()"
      ],
      "execution_count": 82,
      "outputs": []
    },
    {
      "cell_type": "code",
      "metadata": {
        "id": "fzZopAWge5dy",
        "outputId": "7880c2ca-91ad-4624-fa17-91498c474278",
        "colab": {
          "base_uri": "https://localhost:8080/"
        }
      },
      "source": [
        "dados_limpos.isnull().sum()"
      ],
      "execution_count": 83,
      "outputs": [
        {
          "output_type": "execute_result",
          "data": {
            "text/plain": [
              "date                              0\n",
              "state                             0\n",
              "city                              0\n",
              "place_type                        0\n",
              "confirmed                         0\n",
              "deaths                            0\n",
              "order_for_place                   0\n",
              "is_last                           0\n",
              "estimated_population_2019         0\n",
              "estimated_population              0\n",
              "city_ibge_code                    0\n",
              "confirmed_per_100k_inhabitants    0\n",
              "death_rate                        0\n",
              "dtype: int64"
            ]
          },
          "metadata": {
            "tags": []
          },
          "execution_count": 83
        }
      ]
    },
    {
      "cell_type": "code",
      "metadata": {
        "id": "UjLTB8sufCL5",
        "outputId": "2f93c8cc-7ffb-4076-87ea-695982935e74",
        "colab": {
          "base_uri": "https://localhost:8080/"
        }
      },
      "source": [
        "dados_limpos.shape"
      ],
      "execution_count": 84,
      "outputs": [
        {
          "output_type": "execute_result",
          "data": {
            "text/plain": [
              "(5566, 13)"
            ]
          },
          "metadata": {
            "tags": []
          },
          "execution_count": 84
        }
      ]
    },
    {
      "cell_type": "code",
      "metadata": {
        "id": "JfUr1Yy5fEEO",
        "outputId": "55df5616-b8ee-4294-e7ef-21f157000264",
        "colab": {
          "base_uri": "https://localhost:8080/",
          "height": 590
        }
      },
      "source": [
        "dados_limpos = dados_limpos.sort_values('estimated_population',ascending=False)\r\n",
        "dados_limpos"
      ],
      "execution_count": 87,
      "outputs": [
        {
          "output_type": "execute_result",
          "data": {
            "text/html": [
              "<div>\n",
              "<style scoped>\n",
              "    .dataframe tbody tr th:only-of-type {\n",
              "        vertical-align: middle;\n",
              "    }\n",
              "\n",
              "    .dataframe tbody tr th {\n",
              "        vertical-align: top;\n",
              "    }\n",
              "\n",
              "    .dataframe thead th {\n",
              "        text-align: right;\n",
              "    }\n",
              "</style>\n",
              "<table border=\"1\" class=\"dataframe\">\n",
              "  <thead>\n",
              "    <tr style=\"text-align: right;\">\n",
              "      <th></th>\n",
              "      <th>date</th>\n",
              "      <th>state</th>\n",
              "      <th>city</th>\n",
              "      <th>place_type</th>\n",
              "      <th>confirmed</th>\n",
              "      <th>deaths</th>\n",
              "      <th>order_for_place</th>\n",
              "      <th>is_last</th>\n",
              "      <th>estimated_population_2019</th>\n",
              "      <th>estimated_population</th>\n",
              "      <th>city_ibge_code</th>\n",
              "      <th>confirmed_per_100k_inhabitants</th>\n",
              "      <th>death_rate</th>\n",
              "    </tr>\n",
              "  </thead>\n",
              "  <tbody>\n",
              "    <tr>\n",
              "      <th>923715</th>\n",
              "      <td>2020-11-05</td>\n",
              "      <td>SP</td>\n",
              "      <td>São Paulo</td>\n",
              "      <td>city</td>\n",
              "      <td>319156</td>\n",
              "      <td>13715</td>\n",
              "      <td>237</td>\n",
              "      <td>True</td>\n",
              "      <td>12252023.0</td>\n",
              "      <td>12325232.0</td>\n",
              "      <td>3550308.0</td>\n",
              "      <td>2589.45227</td>\n",
              "      <td>0.0430</td>\n",
              "    </tr>\n",
              "    <tr>\n",
              "      <th>561809</th>\n",
              "      <td>2020-10-28</td>\n",
              "      <td>RJ</td>\n",
              "      <td>Rio de Janeiro</td>\n",
              "      <td>city</td>\n",
              "      <td>117956</td>\n",
              "      <td>12009</td>\n",
              "      <td>225</td>\n",
              "      <td>True</td>\n",
              "      <td>6718903.0</td>\n",
              "      <td>6747815.0</td>\n",
              "      <td>3304557.0</td>\n",
              "      <td>1748.06215</td>\n",
              "      <td>0.1018</td>\n",
              "    </tr>\n",
              "    <tr>\n",
              "      <th>39128</th>\n",
              "      <td>2020-11-04</td>\n",
              "      <td>DF</td>\n",
              "      <td>Brasília</td>\n",
              "      <td>city</td>\n",
              "      <td>188233</td>\n",
              "      <td>3423</td>\n",
              "      <td>242</td>\n",
              "      <td>True</td>\n",
              "      <td>3015268.0</td>\n",
              "      <td>3055149.0</td>\n",
              "      <td>5300108.0</td>\n",
              "      <td>6161.17250</td>\n",
              "      <td>0.0182</td>\n",
              "    </tr>\n",
              "    <tr>\n",
              "      <th>146988</th>\n",
              "      <td>2020-11-05</td>\n",
              "      <td>BA</td>\n",
              "      <td>Salvador</td>\n",
              "      <td>city</td>\n",
              "      <td>91769</td>\n",
              "      <td>2910</td>\n",
              "      <td>233</td>\n",
              "      <td>True</td>\n",
              "      <td>2872347.0</td>\n",
              "      <td>2886698.0</td>\n",
              "      <td>2927408.0</td>\n",
              "      <td>3179.03016</td>\n",
              "      <td>0.0317</td>\n",
              "    </tr>\n",
              "    <tr>\n",
              "      <th>51243</th>\n",
              "      <td>2020-11-05</td>\n",
              "      <td>CE</td>\n",
              "      <td>Fortaleza</td>\n",
              "      <td>city</td>\n",
              "      <td>56698</td>\n",
              "      <td>3920</td>\n",
              "      <td>230</td>\n",
              "      <td>True</td>\n",
              "      <td>2669342.0</td>\n",
              "      <td>2686612.0</td>\n",
              "      <td>2304400.0</td>\n",
              "      <td>2110.39034</td>\n",
              "      <td>0.0691</td>\n",
              "    </tr>\n",
              "    <tr>\n",
              "      <th>...</th>\n",
              "      <td>...</td>\n",
              "      <td>...</td>\n",
              "      <td>...</td>\n",
              "      <td>...</td>\n",
              "      <td>...</td>\n",
              "      <td>...</td>\n",
              "      <td>...</td>\n",
              "      <td>...</td>\n",
              "      <td>...</td>\n",
              "      <td>...</td>\n",
              "      <td>...</td>\n",
              "      <td>...</td>\n",
              "      <td>...</td>\n",
              "    </tr>\n",
              "    <tr>\n",
              "      <th>814691</th>\n",
              "      <td>2020-11-04</td>\n",
              "      <td>TO</td>\n",
              "      <td>Oliveira de Fátima</td>\n",
              "      <td>city</td>\n",
              "      <td>61</td>\n",
              "      <td>1</td>\n",
              "      <td>137</td>\n",
              "      <td>True</td>\n",
              "      <td>1112.0</td>\n",
              "      <td>1118.0</td>\n",
              "      <td>1715507.0</td>\n",
              "      <td>5456.17174</td>\n",
              "      <td>0.0164</td>\n",
              "    </tr>\n",
              "    <tr>\n",
              "      <th>744972</th>\n",
              "      <td>2020-11-05</td>\n",
              "      <td>RS</td>\n",
              "      <td>Engenho Velho</td>\n",
              "      <td>city</td>\n",
              "      <td>11</td>\n",
              "      <td>0</td>\n",
              "      <td>135</td>\n",
              "      <td>True</td>\n",
              "      <td>1034.0</td>\n",
              "      <td>982.0</td>\n",
              "      <td>4306924.0</td>\n",
              "      <td>1120.16293</td>\n",
              "      <td>0.0000</td>\n",
              "    </tr>\n",
              "    <tr>\n",
              "      <th>257608</th>\n",
              "      <td>2020-08-10</td>\n",
              "      <td>MT</td>\n",
              "      <td>Araguainha</td>\n",
              "      <td>city</td>\n",
              "      <td>2</td>\n",
              "      <td>0</td>\n",
              "      <td>37</td>\n",
              "      <td>True</td>\n",
              "      <td>935.0</td>\n",
              "      <td>946.0</td>\n",
              "      <td>5101209.0</td>\n",
              "      <td>211.41649</td>\n",
              "      <td>0.0000</td>\n",
              "    </tr>\n",
              "    <tr>\n",
              "      <th>835911</th>\n",
              "      <td>2020-11-05</td>\n",
              "      <td>SP</td>\n",
              "      <td>Borá</td>\n",
              "      <td>city</td>\n",
              "      <td>5</td>\n",
              "      <td>0</td>\n",
              "      <td>147</td>\n",
              "      <td>True</td>\n",
              "      <td>837.0</td>\n",
              "      <td>838.0</td>\n",
              "      <td>3507209.0</td>\n",
              "      <td>596.65871</td>\n",
              "      <td>0.0000</td>\n",
              "    </tr>\n",
              "    <tr>\n",
              "      <th>518827</th>\n",
              "      <td>2020-11-04</td>\n",
              "      <td>MG</td>\n",
              "      <td>Serra da Saudade</td>\n",
              "      <td>city</td>\n",
              "      <td>6</td>\n",
              "      <td>0</td>\n",
              "      <td>119</td>\n",
              "      <td>True</td>\n",
              "      <td>781.0</td>\n",
              "      <td>776.0</td>\n",
              "      <td>3166600.0</td>\n",
              "      <td>773.19588</td>\n",
              "      <td>0.0000</td>\n",
              "    </tr>\n",
              "  </tbody>\n",
              "</table>\n",
              "<p>5566 rows × 13 columns</p>\n",
              "</div>"
            ],
            "text/plain": [
              "              date state  ... confirmed_per_100k_inhabitants death_rate\n",
              "923715  2020-11-05    SP  ...                     2589.45227     0.0430\n",
              "561809  2020-10-28    RJ  ...                     1748.06215     0.1018\n",
              "39128   2020-11-04    DF  ...                     6161.17250     0.0182\n",
              "146988  2020-11-05    BA  ...                     3179.03016     0.0317\n",
              "51243   2020-11-05    CE  ...                     2110.39034     0.0691\n",
              "...            ...   ...  ...                            ...        ...\n",
              "814691  2020-11-04    TO  ...                     5456.17174     0.0164\n",
              "744972  2020-11-05    RS  ...                     1120.16293     0.0000\n",
              "257608  2020-08-10    MT  ...                      211.41649     0.0000\n",
              "835911  2020-11-05    SP  ...                      596.65871     0.0000\n",
              "518827  2020-11-04    MG  ...                      773.19588     0.0000\n",
              "\n",
              "[5566 rows x 13 columns]"
            ]
          },
          "metadata": {
            "tags": []
          },
          "execution_count": 87
        }
      ]
    },
    {
      "cell_type": "code",
      "metadata": {
        "id": "_N221JPdfSfX",
        "outputId": "7ea186b1-09d5-489f-d793-d2e48cf09217",
        "colab": {
          "base_uri": "https://localhost:8080/",
          "height": 343
        }
      },
      "source": [
        "mais_populosas = dados_limpos[['city','death_rate']].head(10)\r\n",
        "mais_populosas"
      ],
      "execution_count": 91,
      "outputs": [
        {
          "output_type": "execute_result",
          "data": {
            "text/html": [
              "<div>\n",
              "<style scoped>\n",
              "    .dataframe tbody tr th:only-of-type {\n",
              "        vertical-align: middle;\n",
              "    }\n",
              "\n",
              "    .dataframe tbody tr th {\n",
              "        vertical-align: top;\n",
              "    }\n",
              "\n",
              "    .dataframe thead th {\n",
              "        text-align: right;\n",
              "    }\n",
              "</style>\n",
              "<table border=\"1\" class=\"dataframe\">\n",
              "  <thead>\n",
              "    <tr style=\"text-align: right;\">\n",
              "      <th></th>\n",
              "      <th>city</th>\n",
              "      <th>death_rate</th>\n",
              "    </tr>\n",
              "  </thead>\n",
              "  <tbody>\n",
              "    <tr>\n",
              "      <th>923715</th>\n",
              "      <td>São Paulo</td>\n",
              "      <td>0.0430</td>\n",
              "    </tr>\n",
              "    <tr>\n",
              "      <th>561809</th>\n",
              "      <td>Rio de Janeiro</td>\n",
              "      <td>0.1018</td>\n",
              "    </tr>\n",
              "    <tr>\n",
              "      <th>39128</th>\n",
              "      <td>Brasília</td>\n",
              "      <td>0.0182</td>\n",
              "    </tr>\n",
              "    <tr>\n",
              "      <th>146988</th>\n",
              "      <td>Salvador</td>\n",
              "      <td>0.0317</td>\n",
              "    </tr>\n",
              "    <tr>\n",
              "      <th>51243</th>\n",
              "      <td>Fortaleza</td>\n",
              "      <td>0.0691</td>\n",
              "    </tr>\n",
              "    <tr>\n",
              "      <th>418846</th>\n",
              "      <td>Belo Horizonte</td>\n",
              "      <td>0.0307</td>\n",
              "    </tr>\n",
              "    <tr>\n",
              "      <th>14856</th>\n",
              "      <td>Manaus</td>\n",
              "      <td>0.0457</td>\n",
              "    </tr>\n",
              "    <tr>\n",
              "      <th>604143</th>\n",
              "      <td>Curitiba</td>\n",
              "      <td>0.0344</td>\n",
              "    </tr>\n",
              "    <tr>\n",
              "      <th>360832</th>\n",
              "      <td>Recife</td>\n",
              "      <td>0.0671</td>\n",
              "    </tr>\n",
              "    <tr>\n",
              "      <th>231681</th>\n",
              "      <td>Goiânia</td>\n",
              "      <td>0.0260</td>\n",
              "    </tr>\n",
              "  </tbody>\n",
              "</table>\n",
              "</div>"
            ],
            "text/plain": [
              "                  city  death_rate\n",
              "923715       São Paulo      0.0430\n",
              "561809  Rio de Janeiro      0.1018\n",
              "39128         Brasília      0.0182\n",
              "146988        Salvador      0.0317\n",
              "51243        Fortaleza      0.0691\n",
              "418846  Belo Horizonte      0.0307\n",
              "14856           Manaus      0.0457\n",
              "604143        Curitiba      0.0344\n",
              "360832          Recife      0.0671\n",
              "231681         Goiânia      0.0260"
            ]
          },
          "metadata": {
            "tags": []
          },
          "execution_count": 91
        }
      ]
    },
    {
      "cell_type": "code",
      "metadata": {
        "id": "ADa479u2glEs"
      },
      "source": [
        "mais_populosas = mais_populosas.set_index('city')"
      ],
      "execution_count": null,
      "outputs": []
    },
    {
      "cell_type": "code",
      "metadata": {
        "id": "-fEIBRbAgCTP",
        "outputId": "d024480b-9816-411c-9feb-b6e5cbfd3659",
        "colab": {
          "base_uri": "https://localhost:8080/",
          "height": 373
        }
      },
      "source": [
        "mais_populosas"
      ],
      "execution_count": 98,
      "outputs": [
        {
          "output_type": "execute_result",
          "data": {
            "text/html": [
              "<div>\n",
              "<style scoped>\n",
              "    .dataframe tbody tr th:only-of-type {\n",
              "        vertical-align: middle;\n",
              "    }\n",
              "\n",
              "    .dataframe tbody tr th {\n",
              "        vertical-align: top;\n",
              "    }\n",
              "\n",
              "    .dataframe thead th {\n",
              "        text-align: right;\n",
              "    }\n",
              "</style>\n",
              "<table border=\"1\" class=\"dataframe\">\n",
              "  <thead>\n",
              "    <tr style=\"text-align: right;\">\n",
              "      <th></th>\n",
              "      <th>death_rate</th>\n",
              "    </tr>\n",
              "    <tr>\n",
              "      <th>city</th>\n",
              "      <th></th>\n",
              "    </tr>\n",
              "  </thead>\n",
              "  <tbody>\n",
              "    <tr>\n",
              "      <th>São Paulo</th>\n",
              "      <td>0.0430</td>\n",
              "    </tr>\n",
              "    <tr>\n",
              "      <th>Rio de Janeiro</th>\n",
              "      <td>0.1018</td>\n",
              "    </tr>\n",
              "    <tr>\n",
              "      <th>Brasília</th>\n",
              "      <td>0.0182</td>\n",
              "    </tr>\n",
              "    <tr>\n",
              "      <th>Salvador</th>\n",
              "      <td>0.0317</td>\n",
              "    </tr>\n",
              "    <tr>\n",
              "      <th>Fortaleza</th>\n",
              "      <td>0.0691</td>\n",
              "    </tr>\n",
              "    <tr>\n",
              "      <th>Belo Horizonte</th>\n",
              "      <td>0.0307</td>\n",
              "    </tr>\n",
              "    <tr>\n",
              "      <th>Manaus</th>\n",
              "      <td>0.0457</td>\n",
              "    </tr>\n",
              "    <tr>\n",
              "      <th>Curitiba</th>\n",
              "      <td>0.0344</td>\n",
              "    </tr>\n",
              "    <tr>\n",
              "      <th>Recife</th>\n",
              "      <td>0.0671</td>\n",
              "    </tr>\n",
              "    <tr>\n",
              "      <th>Goiânia</th>\n",
              "      <td>0.0260</td>\n",
              "    </tr>\n",
              "  </tbody>\n",
              "</table>\n",
              "</div>"
            ],
            "text/plain": [
              "                death_rate\n",
              "city                      \n",
              "São Paulo           0.0430\n",
              "Rio de Janeiro      0.1018\n",
              "Brasília            0.0182\n",
              "Salvador            0.0317\n",
              "Fortaleza           0.0691\n",
              "Belo Horizonte      0.0307\n",
              "Manaus              0.0457\n",
              "Curitiba            0.0344\n",
              "Recife              0.0671\n",
              "Goiânia             0.0260"
            ]
          },
          "metadata": {
            "tags": []
          },
          "execution_count": 98
        }
      ]
    },
    {
      "cell_type": "code",
      "metadata": {
        "id": "pUUGCcylfyKn",
        "outputId": "f05d0c34-ac63-4514-d54f-180f4329d782",
        "colab": {
          "base_uri": "https://localhost:8080/",
          "height": 451
        }
      },
      "source": [
        "ax = mais_populosas.plot(kind='bar',xlabel='Cidade',figsize=(10,6))\r\n",
        "plt.legend(labels=['Taxa de morte'])\r\n",
        "ax.yaxis.set_major_formatter(ticker.PercentFormatter(xmax=1))\r\n",
        "plt.grid(axis='y',alpha=0.4)"
      ],
      "execution_count": 120,
      "outputs": [
        {
          "output_type": "display_data",
          "data": {
            "image/png": "[encoded data removed]",
            "text/plain": [
              "<Figure size 720x432 with 1 Axes>"
            ]
          },
          "metadata": {
            "tags": [],
            "needs_background": "light"
          }
        }
      ]
    },
    {
      "cell_type": "code",
      "metadata": {
        "id": "lL7uQ2chjj2C",
        "outputId": "3f95bea2-9094-4279-b529-dbb872d57fac",
        "colab": {
          "base_uri": "https://localhost:8080/",
          "height": 282
        }
      },
      "source": [
        "ax = mais_populosas['death_rate'].plot(kind='box')\r\n",
        "ax.yaxis.set_major_formatter(ticker.PercentFormatter(xmax=1))\r\n",
        "ax.xaxis.set_label_text('')\r\n",
        "plt.title('Taxa de morte nas cidades mais populosas do Brasil')\r\n",
        "plt.show()"
      ],
      "execution_count": 142,
      "outputs": [
        {
          "output_type": "display_data",
          "data": {
            "image/png": "[encoded data removed]",
            "text/plain": [
              "<Figure size 432x288 with 1 Axes>"
            ]
          },
          "metadata": {
            "tags": [],
            "needs_background": "light"
          }
        }
      ]
    },
    {
      "cell_type": "markdown",
      "metadata": {
        "id": "7iMGSknEi_-p"
      },
      "source": [
        "# Mortes totais por cidades mais populosas"
      ]
    },
    {
      "cell_type": "code",
      "metadata": {
        "id": "or0ioqeef-PC",
        "outputId": "1484461c-36d4-442b-8047-f9c2c2a3b567",
        "colab": {
          "base_uri": "https://localhost:8080/",
          "height": 343
        }
      },
      "source": [
        "mais_populosas2 = dados_limpos[['city','deaths']].head(10)\r\n",
        "mais_populosas2"
      ],
      "execution_count": 122,
      "outputs": [
        {
          "output_type": "execute_result",
          "data": {
            "text/html": [
              "<div>\n",
              "<style scoped>\n",
              "    .dataframe tbody tr th:only-of-type {\n",
              "        vertical-align: middle;\n",
              "    }\n",
              "\n",
              "    .dataframe tbody tr th {\n",
              "        vertical-align: top;\n",
              "    }\n",
              "\n",
              "    .dataframe thead th {\n",
              "        text-align: right;\n",
              "    }\n",
              "</style>\n",
              "<table border=\"1\" class=\"dataframe\">\n",
              "  <thead>\n",
              "    <tr style=\"text-align: right;\">\n",
              "      <th></th>\n",
              "      <th>city</th>\n",
              "      <th>deaths</th>\n",
              "    </tr>\n",
              "  </thead>\n",
              "  <tbody>\n",
              "    <tr>\n",
              "      <th>923715</th>\n",
              "      <td>São Paulo</td>\n",
              "      <td>13715</td>\n",
              "    </tr>\n",
              "    <tr>\n",
              "      <th>561809</th>\n",
              "      <td>Rio de Janeiro</td>\n",
              "      <td>12009</td>\n",
              "    </tr>\n",
              "    <tr>\n",
              "      <th>39128</th>\n",
              "      <td>Brasília</td>\n",
              "      <td>3423</td>\n",
              "    </tr>\n",
              "    <tr>\n",
              "      <th>146988</th>\n",
              "      <td>Salvador</td>\n",
              "      <td>2910</td>\n",
              "    </tr>\n",
              "    <tr>\n",
              "      <th>51243</th>\n",
              "      <td>Fortaleza</td>\n",
              "      <td>3920</td>\n",
              "    </tr>\n",
              "    <tr>\n",
              "      <th>418846</th>\n",
              "      <td>Belo Horizonte</td>\n",
              "      <td>1494</td>\n",
              "    </tr>\n",
              "    <tr>\n",
              "      <th>14856</th>\n",
              "      <td>Manaus</td>\n",
              "      <td>2902</td>\n",
              "    </tr>\n",
              "    <tr>\n",
              "      <th>604143</th>\n",
              "      <td>Curitiba</td>\n",
              "      <td>1388</td>\n",
              "    </tr>\n",
              "    <tr>\n",
              "      <th>360832</th>\n",
              "      <td>Recife</td>\n",
              "      <td>2469</td>\n",
              "    </tr>\n",
              "    <tr>\n",
              "      <th>231681</th>\n",
              "      <td>Goiânia</td>\n",
              "      <td>1731</td>\n",
              "    </tr>\n",
              "  </tbody>\n",
              "</table>\n",
              "</div>"
            ],
            "text/plain": [
              "                  city  deaths\n",
              "923715       São Paulo   13715\n",
              "561809  Rio de Janeiro   12009\n",
              "39128         Brasília    3423\n",
              "146988        Salvador    2910\n",
              "51243        Fortaleza    3920\n",
              "418846  Belo Horizonte    1494\n",
              "14856           Manaus    2902\n",
              "604143        Curitiba    1388\n",
              "360832          Recife    2469\n",
              "231681         Goiânia    1731"
            ]
          },
          "metadata": {
            "tags": []
          },
          "execution_count": 122
        }
      ]
    },
    {
      "cell_type": "code",
      "metadata": {
        "id": "WlGkHefdjN26",
        "outputId": "29cb7d7e-d998-419a-edae-a7624f2599bf",
        "colab": {
          "base_uri": "https://localhost:8080/",
          "height": 373
        }
      },
      "source": [
        "mais_populosas2 = mais_populosas2.set_index('city')\r\n",
        "mais_populosas2"
      ],
      "execution_count": 123,
      "outputs": [
        {
          "output_type": "execute_result",
          "data": {
            "text/html": [
              "<div>\n",
              "<style scoped>\n",
              "    .dataframe tbody tr th:only-of-type {\n",
              "        vertical-align: middle;\n",
              "    }\n",
              "\n",
              "    .dataframe tbody tr th {\n",
              "        vertical-align: top;\n",
              "    }\n",
              "\n",
              "    .dataframe thead th {\n",
              "        text-align: right;\n",
              "    }\n",
              "</style>\n",
              "<table border=\"1\" class=\"dataframe\">\n",
              "  <thead>\n",
              "    <tr style=\"text-align: right;\">\n",
              "      <th></th>\n",
              "      <th>deaths</th>\n",
              "    </tr>\n",
              "    <tr>\n",
              "      <th>city</th>\n",
              "      <th></th>\n",
              "    </tr>\n",
              "  </thead>\n",
              "  <tbody>\n",
              "    <tr>\n",
              "      <th>São Paulo</th>\n",
              "      <td>13715</td>\n",
              "    </tr>\n",
              "    <tr>\n",
              "      <th>Rio de Janeiro</th>\n",
              "      <td>12009</td>\n",
              "    </tr>\n",
              "    <tr>\n",
              "      <th>Brasília</th>\n",
              "      <td>3423</td>\n",
              "    </tr>\n",
              "    <tr>\n",
              "      <th>Salvador</th>\n",
              "      <td>2910</td>\n",
              "    </tr>\n",
              "    <tr>\n",
              "      <th>Fortaleza</th>\n",
              "      <td>3920</td>\n",
              "    </tr>\n",
              "    <tr>\n",
              "      <th>Belo Horizonte</th>\n",
              "      <td>1494</td>\n",
              "    </tr>\n",
              "    <tr>\n",
              "      <th>Manaus</th>\n",
              "      <td>2902</td>\n",
              "    </tr>\n",
              "    <tr>\n",
              "      <th>Curitiba</th>\n",
              "      <td>1388</td>\n",
              "    </tr>\n",
              "    <tr>\n",
              "      <th>Recife</th>\n",
              "      <td>2469</td>\n",
              "    </tr>\n",
              "    <tr>\n",
              "      <th>Goiânia</th>\n",
              "      <td>1731</td>\n",
              "    </tr>\n",
              "  </tbody>\n",
              "</table>\n",
              "</div>"
            ],
            "text/plain": [
              "                deaths\n",
              "city                  \n",
              "São Paulo        13715\n",
              "Rio de Janeiro   12009\n",
              "Brasília          3423\n",
              "Salvador          2910\n",
              "Fortaleza         3920\n",
              "Belo Horizonte    1494\n",
              "Manaus            2902\n",
              "Curitiba          1388\n",
              "Recife            2469\n",
              "Goiânia           1731"
            ]
          },
          "metadata": {
            "tags": []
          },
          "execution_count": 123
        }
      ]
    },
    {
      "cell_type": "code",
      "metadata": {
        "id": "MIfbQHzQjV10",
        "outputId": "455fc0da-03e7-40e4-cf33-acd82b382353",
        "colab": {
          "base_uri": "https://localhost:8080/",
          "height": 467
        }
      },
      "source": [
        "ax = mais_populosas2.plot(kind='bar',xlabel='Cidades',figsize=(10,6))\r\n",
        "plt.title('Mortes totais nas cidades mais populosas do Brasil')\r\n",
        "plt.grid(axis='y',alpha=0.4)\r\n",
        "plt.show()"
      ],
      "execution_count": 137,
      "outputs": [
        {
          "output_type": "display_data",
          "data": {
            "image/png": "[encoded data removed]",
            "text/plain": [
              "<Figure size 720x432 with 1 Axes>"
            ]
          },
          "metadata": {
            "tags": [],
            "needs_background": "light"
          }
        }
      ]
    },
    {
      "cell_type": "code",
      "metadata": {
        "id": "vc5pairdlOP6"
      },
      "source": [
        ""
      ],
      "execution_count": null,
      "outputs": []
    }
  ]
}