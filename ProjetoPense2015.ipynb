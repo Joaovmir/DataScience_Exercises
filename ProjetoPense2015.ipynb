{
 "cells": [
  {
   "cell_type": "markdown",
   "metadata": {},
   "source": [
    "### Análise do conjunto de dados Pense 2015, que trás informações sobre alunos de 11 a 19 anos."
   ]
  },
  {
   "cell_type": "markdown",
   "metadata": {},
   "source": [
    "Importação das bibliotecas e leitura do arquivo."
   ]
  },
  {
   "cell_type": "code",
   "execution_count": 1,
   "metadata": {},
   "outputs": [],
   "source": [
    "import pandas as pd\n",
    "import seaborn as sns\n",
    "import matplotlib.pyplot as plt\n",
    "import matplotlib.ticker as ticker"
   ]
  },
  {
   "cell_type": "code",
   "execution_count": 2,
   "metadata": {},
   "outputs": [],
   "source": [
    "from zipfile import ZipFile\n",
    "caminho = \"PeNSE_2015_AMOSTRA2.zip\"\n",
    "zip = ZipFile(caminho)"
   ]
  },
  {
   "cell_type": "code",
   "execution_count": 3,
   "metadata": {},
   "outputs": [
    {
     "data": {
      "text/plain": [
       "['arquivos csv/',\n",
       " 'arquivos csv/PENSE_AMOSTRA2_ALUNO.CSV',\n",
       " 'arquivos csv/PENSE_AMOSTRA2_ALUNOESCOLA.CSV',\n",
       " 'arquivos csv/PENSE_AMOSTRA2_ESCOLA.CSV',\n",
       " 'arquivos sas/',\n",
       " 'arquivos sas/pense_amostra2_aluno.sas7bdat',\n",
       " 'arquivos sas/pense_amostra2_alunoescola.sas7bdat',\n",
       " 'arquivos sas/pense_amostra2_escola.sas7bdat',\n",
       " 'arquivos xlsx/',\n",
       " 'arquivos xlsx/PENSE_AMOSTRA2_ALUNO.xlsx',\n",
       " 'arquivos xlsx/PENSE_AMOSTRA2_ALUNOESCOLA.xlsx',\n",
       " 'arquivos xlsx/PENSE_AMOSTRA2_ESCOLA.xlsx',\n",
       " 'Dicionario_PENSE_Microdados_AMOSTRA2.xls']"
      ]
     },
     "execution_count": 3,
     "metadata": {},
     "output_type": "execute_result"
    }
   ],
   "source": [
    "zip.namelist()"
   ]
  },
  {
   "cell_type": "code",
   "execution_count": 4,
   "metadata": {},
   "outputs": [],
   "source": [
    "arquivo = zip.open(zip.namelist()[1])\n",
    "dados = pd.read_csv(arquivo, sep = \";\")"
   ]
  },
  {
   "cell_type": "code",
   "execution_count": 5,
   "metadata": {},
   "outputs": [
    {
     "data": {
      "text/html": [
       "<div>\n",
       "<style scoped>\n",
       "    .dataframe tbody tr th:only-of-type {\n",
       "        vertical-align: middle;\n",
       "    }\n",
       "\n",
       "    .dataframe tbody tr th {\n",
       "        vertical-align: top;\n",
       "    }\n",
       "\n",
       "    .dataframe thead th {\n",
       "        text-align: right;\n",
       "    }\n",
       "</style>\n",
       "<table border=\"1\" class=\"dataframe\">\n",
       "  <thead>\n",
       "    <tr style=\"text-align: right;\">\n",
       "      <th></th>\n",
       "      <th>ANOPESQ</th>\n",
       "      <th>PAIS</th>\n",
       "      <th>REGEOGR</th>\n",
       "      <th>VB00004</th>\n",
       "      <th>VB01001</th>\n",
       "      <th>VB01002</th>\n",
       "      <th>VB01003</th>\n",
       "      <th>VB01004</th>\n",
       "      <th>VB01005</th>\n",
       "      <th>VB01006</th>\n",
       "      <th>...</th>\n",
       "      <th>ESTRATO_EXP</th>\n",
       "      <th>ESTRATOGEOREG</th>\n",
       "      <th>PESO</th>\n",
       "      <th>V0006</th>\n",
       "      <th>V0007</th>\n",
       "      <th>V0008</th>\n",
       "      <th>V0041</th>\n",
       "      <th>aluno</th>\n",
       "      <th>escola</th>\n",
       "      <th>turma</th>\n",
       "    </tr>\n",
       "  </thead>\n",
       "  <tbody>\n",
       "    <tr>\n",
       "      <th>0</th>\n",
       "      <td>2015</td>\n",
       "      <td>76</td>\n",
       "      <td>1</td>\n",
       "      <td>1</td>\n",
       "      <td>2</td>\n",
       "      <td>1</td>\n",
       "      <td>13</td>\n",
       "      <td>7</td>\n",
       "      <td>7</td>\n",
       "      <td>1</td>\n",
       "      <td>...</td>\n",
       "      <td>1223</td>\n",
       "      <td>1</td>\n",
       "      <td>299,735235</td>\n",
       "      <td>1</td>\n",
       "      <td>2</td>\n",
       "      <td>4</td>\n",
       "      <td>1</td>\n",
       "      <td>1</td>\n",
       "      <td>1</td>\n",
       "      <td>296</td>\n",
       "    </tr>\n",
       "    <tr>\n",
       "      <th>1</th>\n",
       "      <td>2015</td>\n",
       "      <td>76</td>\n",
       "      <td>1</td>\n",
       "      <td>1</td>\n",
       "      <td>2</td>\n",
       "      <td>1</td>\n",
       "      <td>14</td>\n",
       "      <td>4</td>\n",
       "      <td>7</td>\n",
       "      <td>1</td>\n",
       "      <td>...</td>\n",
       "      <td>1223</td>\n",
       "      <td>1</td>\n",
       "      <td>355,170081</td>\n",
       "      <td>1</td>\n",
       "      <td>2</td>\n",
       "      <td>4</td>\n",
       "      <td>1</td>\n",
       "      <td>2</td>\n",
       "      <td>1</td>\n",
       "      <td>296</td>\n",
       "    </tr>\n",
       "    <tr>\n",
       "      <th>2</th>\n",
       "      <td>2015</td>\n",
       "      <td>76</td>\n",
       "      <td>1</td>\n",
       "      <td>1</td>\n",
       "      <td>1</td>\n",
       "      <td>4</td>\n",
       "      <td>13</td>\n",
       "      <td>6</td>\n",
       "      <td>7</td>\n",
       "      <td>1</td>\n",
       "      <td>...</td>\n",
       "      <td>1223</td>\n",
       "      <td>1</td>\n",
       "      <td>299,735235</td>\n",
       "      <td>1</td>\n",
       "      <td>2</td>\n",
       "      <td>4</td>\n",
       "      <td>1</td>\n",
       "      <td>3</td>\n",
       "      <td>1</td>\n",
       "      <td>296</td>\n",
       "    </tr>\n",
       "    <tr>\n",
       "      <th>3</th>\n",
       "      <td>2015</td>\n",
       "      <td>76</td>\n",
       "      <td>1</td>\n",
       "      <td>1</td>\n",
       "      <td>1</td>\n",
       "      <td>1</td>\n",
       "      <td>14</td>\n",
       "      <td>6</td>\n",
       "      <td>7</td>\n",
       "      <td>1</td>\n",
       "      <td>...</td>\n",
       "      <td>1223</td>\n",
       "      <td>1</td>\n",
       "      <td>355,170081</td>\n",
       "      <td>1</td>\n",
       "      <td>2</td>\n",
       "      <td>4</td>\n",
       "      <td>1</td>\n",
       "      <td>4</td>\n",
       "      <td>1</td>\n",
       "      <td>296</td>\n",
       "    </tr>\n",
       "    <tr>\n",
       "      <th>4</th>\n",
       "      <td>2015</td>\n",
       "      <td>76</td>\n",
       "      <td>1</td>\n",
       "      <td>1</td>\n",
       "      <td>1</td>\n",
       "      <td>1</td>\n",
       "      <td>13</td>\n",
       "      <td>9</td>\n",
       "      <td>7</td>\n",
       "      <td>1</td>\n",
       "      <td>...</td>\n",
       "      <td>1223</td>\n",
       "      <td>1</td>\n",
       "      <td>299,735235</td>\n",
       "      <td>1</td>\n",
       "      <td>2</td>\n",
       "      <td>4</td>\n",
       "      <td>1</td>\n",
       "      <td>5</td>\n",
       "      <td>1</td>\n",
       "      <td>296</td>\n",
       "    </tr>\n",
       "  </tbody>\n",
       "</table>\n",
       "<p>5 rows × 181 columns</p>\n",
       "</div>"
      ],
      "text/plain": [
       "   ANOPESQ  PAIS  REGEOGR  VB00004  VB01001  VB01002  VB01003  VB01004  \\\n",
       "0     2015    76        1        1        2        1       13        7   \n",
       "1     2015    76        1        1        2        1       14        4   \n",
       "2     2015    76        1        1        1        4       13        6   \n",
       "3     2015    76        1        1        1        1       14        6   \n",
       "4     2015    76        1        1        1        1       13        9   \n",
       "\n",
       "   VB01005  VB01006  ...  ESTRATO_EXP  ESTRATOGEOREG        PESO  V0006  \\\n",
       "0        7        1  ...         1223              1  299,735235      1   \n",
       "1        7        1  ...         1223              1  355,170081      1   \n",
       "2        7        1  ...         1223              1  299,735235      1   \n",
       "3        7        1  ...         1223              1  355,170081      1   \n",
       "4        7        1  ...         1223              1  299,735235      1   \n",
       "\n",
       "   V0007  V0008  V0041  aluno  escola  turma  \n",
       "0      2      4      1      1       1    296  \n",
       "1      2      4      1      2       1    296  \n",
       "2      2      4      1      3       1    296  \n",
       "3      2      4      1      4       1    296  \n",
       "4      2      4      1      5       1    296  \n",
       "\n",
       "[5 rows x 181 columns]"
      ]
     },
     "execution_count": 5,
     "metadata": {},
     "output_type": "execute_result"
    }
   ],
   "source": [
    "dados.head()"
   ]
  },
  {
   "cell_type": "code",
   "execution_count": 6,
   "metadata": {},
   "outputs": [
    {
     "data": {
      "text/plain": [
       "(16556, 181)"
      ]
     },
     "execution_count": 6,
     "metadata": {},
     "output_type": "execute_result"
    }
   ],
   "source": [
    "dados.shape"
   ]
  },
  {
   "cell_type": "markdown",
   "metadata": {},
   "source": [
    "## O foco será em ver o uso do tabaco dentre os alunos e se há uma relação ou influência pelos pais."
   ]
  },
  {
   "cell_type": "markdown",
   "metadata": {},
   "source": [
    "Segundo o dicionário de dados, estaremos interessados nas colunas:\n",
    "- VB01001\tQual é o seu sexo?\n",
    "- VB01003\tQual é a sua idade?\n",
    "- VB01022\tEm que turno você estuda?\n",
    "- VB04001\tAlguma vez na vida, você já fumou cigarro, mesmo uma ou duas tragadas? \n",
    "- VB04002\tQue idade você tinha quando experimentou fumar cigarro pela primeira vez?\n",
    "- VB04003\tNOS ÚLTIMOS 30 DIAS, em quantos dias você fumou cigarros?\n",
    "- VB04009\tNOS ÚLTIMOS 30 DIAS, em geral, como você conseguiu seus próprios cigarros?\n",
    "- VB04010\tNOS ÚLTIMOS 30 DIAS, alguém se recusou a lhe vender cigarros por causa de sua idade?\n",
    "- VB04008A\tNOS ÚLTIMOS 30 DIAS, em quantos dias você usou outros produtos de tabaco: cigarros de palha ou enrolados a mão, charuto, cachimbo, cigarrilha, cigarro indiano ou bali, narguilé, rapé, fumo de mascar etc? (não incluir cigarro comum)\n",
    "- VB04011\tQual outro produto do tabaco você usou com mais frequência NOS ÚLTIMOS 30 DIAS?\n",
    "- VB04005\tNOS ÚLTIMOS 7 DIAS, em quantos dias pessoas fumaram na sua presença?\n",
    "- VB04006A\tAlgum de seus pais ou responsáveis fuma? "
   ]
  },
  {
   "cell_type": "markdown",
   "metadata": {},
   "source": [
    "Coleta de colunas de interesse, alteração do nome das colunas e criação do dicionário de dados para substituição no DataFrame"
   ]
  },
  {
   "cell_type": "code",
   "execution_count": 7,
   "metadata": {},
   "outputs": [],
   "source": [
    "colunas = [\"VB01001\",\"VB01003\", \"VB01022\", \"VB04001\",\"VB04002\",\"VB04003\", \"VB04009\", \"VB04010\", \"VB04008A\", \"VB04011\", \"VB04005\", \"VB04006A\"]\n",
    "nomes_colunas = [\"Sexo\", \"Idade\", \"Turno que estuda\", \"Já fumou\", \"Idade que fumou 1ª vez\", \"Dias que fumou 30d\", \"Como conseguiu 30d\", \"Alguém recusou vender idade 30d\", \"Quantos dias outros produtos 30d\", \"Qual produto 30d\", \"Outras pessoas fumaram na presença 7d\", \"Pais fumam?\"]"
   ]
  },
  {
   "cell_type": "code",
   "execution_count": 8,
   "metadata": {},
   "outputs": [],
   "source": [
    "sexo = {\n",
    "    1: 'Masculino',\n",
    "    2: 'Feminino'\n",
    "}\n",
    "\n",
    "turno = {\n",
    "    1: 'Manhã',\n",
    "    2: 'Intermediário',\n",
    "    3: 'Tarde',\n",
    "    4: 'Noite',\n",
    "    5: 'Integral',\n",
    "    99: 'Não informado'\n",
    "}\n",
    "\n",
    "ja_fumou = {\n",
    "    -1: 'Pulou pergunta',\n",
    "    1: 'Sim',\n",
    "    2: 'Não',\n",
    "    99: 'Não informado'\n",
    "}\n",
    "\n",
    "fumou_pvez = {\n",
    "    -1: 'Pulou pergunta',\n",
    "    99: 'Não informado'\n",
    "}\n",
    "\n",
    "dias_fumou = {\n",
    "    -1: 'Pulou pergunta',\n",
    "    1: 'Nenhum dia',\n",
    "    2: '1-2 dias',\n",
    "    3: '3-5 dias',\n",
    "    4: '6-9 dias',\n",
    "    5: '10-19 dias',\n",
    "    6: '20-29 dias',\n",
    "    7: '30 dias',\n",
    "    99: 'Não informado'\n",
    "}\n",
    "\n",
    "como_conseguiu = {\n",
    "    -1: 'Pulou pergunta',\n",
    "    1: 'Não fumou',\n",
    "    2: 'Loja ou botequim',\n",
    "    3: 'Vendedor ambulante',\n",
    "    4: 'Pediu outra pessoa para comprar',\n",
    "    5: 'Pegou com outra pessoa',\n",
    "    6: 'Pegou escondido',\n",
    "    7: 'Pessoa mais velha deu',\n",
    "    8: 'Outro modo',\n",
    "    99: 'Não informado'\n",
    "}\n",
    "\n",
    "recusa_venda = {\n",
    "    -1: 'Pulou pergunta',\n",
    "    1: 'Não tentou comprar',\n",
    "    2: 'Sim',\n",
    "    3: 'Não',\n",
    "    99: 'Não informado'\n",
    "}\n",
    "\n",
    "outros_produtos = {\n",
    "    -1: 'Pulou pergunta',\n",
    "    1: 'Não usou outros',\n",
    "    2: 'Nenhum dia',\n",
    "    3: '1-2 dias',\n",
    "    4: '3-5 dias',\n",
    "    5: '6-9 dias',\n",
    "    6: '10-19 dias',\n",
    "    7: '20-29 dias',\n",
    "    8: '30 dias',\n",
    "    99: 'Não informado'\n",
    "}\n",
    "\n",
    "qual_produto = {\n",
    "    -1: 'Pulou pergunta',\n",
    "    1: 'Cravo',\n",
    "    2: 'Enrolados à mão',\n",
    "    3: 'Cigarrilhas',\n",
    "    4: 'Charutos',\n",
    "    5: 'Fumo para mascar',\n",
    "    6: 'Narguilé',\n",
    "    7: 'Indianos',\n",
    "    8: 'Eletrônicos',\n",
    "    9: 'Outros',\n",
    "    99: 'Não informado'\n",
    "}\n",
    "\n",
    "outros_fumaram_presenca = {\n",
    "    -1: 'Pulou pergunta',\n",
    "    1: 'Nenhum dia',\n",
    "    2: '1-2 dias',\n",
    "    3: '3-4 dias',\n",
    "    4: '5-6 dias',\n",
    "    5: '7 dias',\n",
    "    99: 'Não informado'\n",
    "}\n",
    "\n",
    "responsavel_fuma = {\n",
    "    -1: 'Pulou pergunta',\n",
    "    1: 'Nenhum deles',\n",
    "    2: 'Só o pai fuma',\n",
    "    3: 'Só a mãe fuma',\n",
    "    4: 'Os dois fumam',\n",
    "    5: 'Não sabe',\n",
    "    99: 'Não informado'\n",
    "}"
   ]
  },
  {
   "cell_type": "code",
   "execution_count": 9,
   "metadata": {},
   "outputs": [],
   "source": [
    "dados = dados[colunas]\n",
    "dados.columns = nomes_colunas"
   ]
  },
  {
   "cell_type": "code",
   "execution_count": 10,
   "metadata": {
    "scrolled": false
   },
   "outputs": [
    {
     "data": {
      "text/html": [
       "<div>\n",
       "<style scoped>\n",
       "    .dataframe tbody tr th:only-of-type {\n",
       "        vertical-align: middle;\n",
       "    }\n",
       "\n",
       "    .dataframe tbody tr th {\n",
       "        vertical-align: top;\n",
       "    }\n",
       "\n",
       "    .dataframe thead th {\n",
       "        text-align: right;\n",
       "    }\n",
       "</style>\n",
       "<table border=\"1\" class=\"dataframe\">\n",
       "  <thead>\n",
       "    <tr style=\"text-align: right;\">\n",
       "      <th></th>\n",
       "      <th>Sexo</th>\n",
       "      <th>Idade</th>\n",
       "      <th>Turno que estuda</th>\n",
       "      <th>Já fumou</th>\n",
       "      <th>Idade que fumou 1ª vez</th>\n",
       "      <th>Dias que fumou 30d</th>\n",
       "      <th>Como conseguiu 30d</th>\n",
       "      <th>Alguém recusou vender idade 30d</th>\n",
       "      <th>Quantos dias outros produtos 30d</th>\n",
       "      <th>Qual produto 30d</th>\n",
       "      <th>Outras pessoas fumaram na presença 7d</th>\n",
       "      <th>Pais fumam?</th>\n",
       "    </tr>\n",
       "  </thead>\n",
       "  <tbody>\n",
       "    <tr>\n",
       "      <th>0</th>\n",
       "      <td>2</td>\n",
       "      <td>13</td>\n",
       "      <td>1</td>\n",
       "      <td>2</td>\n",
       "      <td>-1</td>\n",
       "      <td>-1</td>\n",
       "      <td>-1</td>\n",
       "      <td>-1</td>\n",
       "      <td>1</td>\n",
       "      <td>-1</td>\n",
       "      <td>1</td>\n",
       "      <td>1</td>\n",
       "    </tr>\n",
       "    <tr>\n",
       "      <th>1</th>\n",
       "      <td>2</td>\n",
       "      <td>14</td>\n",
       "      <td>1</td>\n",
       "      <td>2</td>\n",
       "      <td>-1</td>\n",
       "      <td>-1</td>\n",
       "      <td>-1</td>\n",
       "      <td>-1</td>\n",
       "      <td>1</td>\n",
       "      <td>-1</td>\n",
       "      <td>2</td>\n",
       "      <td>2</td>\n",
       "    </tr>\n",
       "    <tr>\n",
       "      <th>2</th>\n",
       "      <td>1</td>\n",
       "      <td>13</td>\n",
       "      <td>1</td>\n",
       "      <td>2</td>\n",
       "      <td>-1</td>\n",
       "      <td>-1</td>\n",
       "      <td>-1</td>\n",
       "      <td>-1</td>\n",
       "      <td>1</td>\n",
       "      <td>-1</td>\n",
       "      <td>2</td>\n",
       "      <td>1</td>\n",
       "    </tr>\n",
       "    <tr>\n",
       "      <th>3</th>\n",
       "      <td>1</td>\n",
       "      <td>14</td>\n",
       "      <td>1</td>\n",
       "      <td>2</td>\n",
       "      <td>-1</td>\n",
       "      <td>-1</td>\n",
       "      <td>-1</td>\n",
       "      <td>-1</td>\n",
       "      <td>1</td>\n",
       "      <td>-1</td>\n",
       "      <td>1</td>\n",
       "      <td>1</td>\n",
       "    </tr>\n",
       "    <tr>\n",
       "      <th>4</th>\n",
       "      <td>1</td>\n",
       "      <td>13</td>\n",
       "      <td>1</td>\n",
       "      <td>2</td>\n",
       "      <td>-1</td>\n",
       "      <td>-1</td>\n",
       "      <td>-1</td>\n",
       "      <td>-1</td>\n",
       "      <td>1</td>\n",
       "      <td>-1</td>\n",
       "      <td>2</td>\n",
       "      <td>1</td>\n",
       "    </tr>\n",
       "    <tr>\n",
       "      <th>...</th>\n",
       "      <td>...</td>\n",
       "      <td>...</td>\n",
       "      <td>...</td>\n",
       "      <td>...</td>\n",
       "      <td>...</td>\n",
       "      <td>...</td>\n",
       "      <td>...</td>\n",
       "      <td>...</td>\n",
       "      <td>...</td>\n",
       "      <td>...</td>\n",
       "      <td>...</td>\n",
       "      <td>...</td>\n",
       "    </tr>\n",
       "    <tr>\n",
       "      <th>16551</th>\n",
       "      <td>2</td>\n",
       "      <td>12</td>\n",
       "      <td>1</td>\n",
       "      <td>-1</td>\n",
       "      <td>-1</td>\n",
       "      <td>-1</td>\n",
       "      <td>-1</td>\n",
       "      <td>-1</td>\n",
       "      <td>-1</td>\n",
       "      <td>-1</td>\n",
       "      <td>-1</td>\n",
       "      <td>-1</td>\n",
       "    </tr>\n",
       "    <tr>\n",
       "      <th>16552</th>\n",
       "      <td>1</td>\n",
       "      <td>15</td>\n",
       "      <td>1</td>\n",
       "      <td>2</td>\n",
       "      <td>-1</td>\n",
       "      <td>-1</td>\n",
       "      <td>-1</td>\n",
       "      <td>-1</td>\n",
       "      <td>1</td>\n",
       "      <td>-1</td>\n",
       "      <td>1</td>\n",
       "      <td>1</td>\n",
       "    </tr>\n",
       "    <tr>\n",
       "      <th>16553</th>\n",
       "      <td>1</td>\n",
       "      <td>13</td>\n",
       "      <td>1</td>\n",
       "      <td>2</td>\n",
       "      <td>-1</td>\n",
       "      <td>-1</td>\n",
       "      <td>-1</td>\n",
       "      <td>-1</td>\n",
       "      <td>1</td>\n",
       "      <td>-1</td>\n",
       "      <td>5</td>\n",
       "      <td>2</td>\n",
       "    </tr>\n",
       "    <tr>\n",
       "      <th>16554</th>\n",
       "      <td>1</td>\n",
       "      <td>14</td>\n",
       "      <td>1</td>\n",
       "      <td>2</td>\n",
       "      <td>-1</td>\n",
       "      <td>-1</td>\n",
       "      <td>-1</td>\n",
       "      <td>-1</td>\n",
       "      <td>1</td>\n",
       "      <td>-1</td>\n",
       "      <td>3</td>\n",
       "      <td>2</td>\n",
       "    </tr>\n",
       "    <tr>\n",
       "      <th>16555</th>\n",
       "      <td>1</td>\n",
       "      <td>15</td>\n",
       "      <td>1</td>\n",
       "      <td>2</td>\n",
       "      <td>-1</td>\n",
       "      <td>-1</td>\n",
       "      <td>-1</td>\n",
       "      <td>-1</td>\n",
       "      <td>2</td>\n",
       "      <td>-1</td>\n",
       "      <td>2</td>\n",
       "      <td>1</td>\n",
       "    </tr>\n",
       "  </tbody>\n",
       "</table>\n",
       "<p>16556 rows × 12 columns</p>\n",
       "</div>"
      ],
      "text/plain": [
       "       Sexo  Idade  Turno que estuda  Já fumou  Idade que fumou 1ª vez  \\\n",
       "0         2     13                 1         2                      -1   \n",
       "1         2     14                 1         2                      -1   \n",
       "2         1     13                 1         2                      -1   \n",
       "3         1     14                 1         2                      -1   \n",
       "4         1     13                 1         2                      -1   \n",
       "...     ...    ...               ...       ...                     ...   \n",
       "16551     2     12                 1        -1                      -1   \n",
       "16552     1     15                 1         2                      -1   \n",
       "16553     1     13                 1         2                      -1   \n",
       "16554     1     14                 1         2                      -1   \n",
       "16555     1     15                 1         2                      -1   \n",
       "\n",
       "       Dias que fumou 30d  Como conseguiu 30d  \\\n",
       "0                      -1                  -1   \n",
       "1                      -1                  -1   \n",
       "2                      -1                  -1   \n",
       "3                      -1                  -1   \n",
       "4                      -1                  -1   \n",
       "...                   ...                 ...   \n",
       "16551                  -1                  -1   \n",
       "16552                  -1                  -1   \n",
       "16553                  -1                  -1   \n",
       "16554                  -1                  -1   \n",
       "16555                  -1                  -1   \n",
       "\n",
       "       Alguém recusou vender idade 30d  Quantos dias outros produtos 30d  \\\n",
       "0                                   -1                                 1   \n",
       "1                                   -1                                 1   \n",
       "2                                   -1                                 1   \n",
       "3                                   -1                                 1   \n",
       "4                                   -1                                 1   \n",
       "...                                ...                               ...   \n",
       "16551                               -1                                -1   \n",
       "16552                               -1                                 1   \n",
       "16553                               -1                                 1   \n",
       "16554                               -1                                 1   \n",
       "16555                               -1                                 2   \n",
       "\n",
       "       Qual produto 30d  Outras pessoas fumaram na presença 7d  Pais fumam?  \n",
       "0                    -1                                      1            1  \n",
       "1                    -1                                      2            2  \n",
       "2                    -1                                      2            1  \n",
       "3                    -1                                      1            1  \n",
       "4                    -1                                      2            1  \n",
       "...                 ...                                    ...          ...  \n",
       "16551                -1                                     -1           -1  \n",
       "16552                -1                                      1            1  \n",
       "16553                -1                                      5            2  \n",
       "16554                -1                                      3            2  \n",
       "16555                -1                                      2            1  \n",
       "\n",
       "[16556 rows x 12 columns]"
      ]
     },
     "execution_count": 10,
     "metadata": {},
     "output_type": "execute_result"
    }
   ],
   "source": [
    "dados"
   ]
  },
  {
   "cell_type": "markdown",
   "metadata": {},
   "source": [
    "Criação do novo DataFrame com os dados mais legíveis."
   ]
  },
  {
   "cell_type": "code",
   "execution_count": 11,
   "metadata": {},
   "outputs": [],
   "source": [
    "df = dados.replace({'Sexo': sexo})\n",
    "df = df.replace({'Turno que estuda': turno})\n",
    "df = df.replace({'Já fumou': ja_fumou})\n",
    "df = df.replace({'Idade que fumou 1ª vez': fumou_pvez})\n",
    "df = df.replace({'Dias que fumou 30d': dias_fumou})\n",
    "df = df.replace({'Como conseguiu 30d': como_conseguiu})\n",
    "df = df.replace({'Alguém recusou vender idade 30d': recusa_venda})\n",
    "df = df.replace({'Quantos dias outros produtos 30d': outros_produtos})\n",
    "df = df.replace({'Qual produto 30d': qual_produto})\n",
    "df = df.replace({'Outras pessoas fumaram na presença 7d': outros_fumaram_presenca})\n",
    "df = df.replace({'Pais fumam?': responsavel_fuma})"
   ]
  },
  {
   "cell_type": "code",
   "execution_count": 12,
   "metadata": {
    "scrolled": false
   },
   "outputs": [
    {
     "data": {
      "text/html": [
       "<div>\n",
       "<style scoped>\n",
       "    .dataframe tbody tr th:only-of-type {\n",
       "        vertical-align: middle;\n",
       "    }\n",
       "\n",
       "    .dataframe tbody tr th {\n",
       "        vertical-align: top;\n",
       "    }\n",
       "\n",
       "    .dataframe thead th {\n",
       "        text-align: right;\n",
       "    }\n",
       "</style>\n",
       "<table border=\"1\" class=\"dataframe\">\n",
       "  <thead>\n",
       "    <tr style=\"text-align: right;\">\n",
       "      <th></th>\n",
       "      <th>Sexo</th>\n",
       "      <th>Idade</th>\n",
       "      <th>Turno que estuda</th>\n",
       "      <th>Já fumou</th>\n",
       "      <th>Idade que fumou 1ª vez</th>\n",
       "      <th>Dias que fumou 30d</th>\n",
       "      <th>Como conseguiu 30d</th>\n",
       "      <th>Alguém recusou vender idade 30d</th>\n",
       "      <th>Quantos dias outros produtos 30d</th>\n",
       "      <th>Qual produto 30d</th>\n",
       "      <th>Outras pessoas fumaram na presença 7d</th>\n",
       "      <th>Pais fumam?</th>\n",
       "    </tr>\n",
       "  </thead>\n",
       "  <tbody>\n",
       "    <tr>\n",
       "      <th>0</th>\n",
       "      <td>Feminino</td>\n",
       "      <td>13</td>\n",
       "      <td>Manhã</td>\n",
       "      <td>Não</td>\n",
       "      <td>Pulou pergunta</td>\n",
       "      <td>Pulou pergunta</td>\n",
       "      <td>Pulou pergunta</td>\n",
       "      <td>Pulou pergunta</td>\n",
       "      <td>Não usou outros</td>\n",
       "      <td>Pulou pergunta</td>\n",
       "      <td>Nenhum dia</td>\n",
       "      <td>Nenhum deles</td>\n",
       "    </tr>\n",
       "    <tr>\n",
       "      <th>1</th>\n",
       "      <td>Feminino</td>\n",
       "      <td>14</td>\n",
       "      <td>Manhã</td>\n",
       "      <td>Não</td>\n",
       "      <td>Pulou pergunta</td>\n",
       "      <td>Pulou pergunta</td>\n",
       "      <td>Pulou pergunta</td>\n",
       "      <td>Pulou pergunta</td>\n",
       "      <td>Não usou outros</td>\n",
       "      <td>Pulou pergunta</td>\n",
       "      <td>1-2 dias</td>\n",
       "      <td>Só o pai fuma</td>\n",
       "    </tr>\n",
       "    <tr>\n",
       "      <th>2</th>\n",
       "      <td>Masculino</td>\n",
       "      <td>13</td>\n",
       "      <td>Manhã</td>\n",
       "      <td>Não</td>\n",
       "      <td>Pulou pergunta</td>\n",
       "      <td>Pulou pergunta</td>\n",
       "      <td>Pulou pergunta</td>\n",
       "      <td>Pulou pergunta</td>\n",
       "      <td>Não usou outros</td>\n",
       "      <td>Pulou pergunta</td>\n",
       "      <td>1-2 dias</td>\n",
       "      <td>Nenhum deles</td>\n",
       "    </tr>\n",
       "    <tr>\n",
       "      <th>3</th>\n",
       "      <td>Masculino</td>\n",
       "      <td>14</td>\n",
       "      <td>Manhã</td>\n",
       "      <td>Não</td>\n",
       "      <td>Pulou pergunta</td>\n",
       "      <td>Pulou pergunta</td>\n",
       "      <td>Pulou pergunta</td>\n",
       "      <td>Pulou pergunta</td>\n",
       "      <td>Não usou outros</td>\n",
       "      <td>Pulou pergunta</td>\n",
       "      <td>Nenhum dia</td>\n",
       "      <td>Nenhum deles</td>\n",
       "    </tr>\n",
       "    <tr>\n",
       "      <th>4</th>\n",
       "      <td>Masculino</td>\n",
       "      <td>13</td>\n",
       "      <td>Manhã</td>\n",
       "      <td>Não</td>\n",
       "      <td>Pulou pergunta</td>\n",
       "      <td>Pulou pergunta</td>\n",
       "      <td>Pulou pergunta</td>\n",
       "      <td>Pulou pergunta</td>\n",
       "      <td>Não usou outros</td>\n",
       "      <td>Pulou pergunta</td>\n",
       "      <td>1-2 dias</td>\n",
       "      <td>Nenhum deles</td>\n",
       "    </tr>\n",
       "    <tr>\n",
       "      <th>...</th>\n",
       "      <td>...</td>\n",
       "      <td>...</td>\n",
       "      <td>...</td>\n",
       "      <td>...</td>\n",
       "      <td>...</td>\n",
       "      <td>...</td>\n",
       "      <td>...</td>\n",
       "      <td>...</td>\n",
       "      <td>...</td>\n",
       "      <td>...</td>\n",
       "      <td>...</td>\n",
       "      <td>...</td>\n",
       "    </tr>\n",
       "    <tr>\n",
       "      <th>16551</th>\n",
       "      <td>Feminino</td>\n",
       "      <td>12</td>\n",
       "      <td>Manhã</td>\n",
       "      <td>Pulou pergunta</td>\n",
       "      <td>Pulou pergunta</td>\n",
       "      <td>Pulou pergunta</td>\n",
       "      <td>Pulou pergunta</td>\n",
       "      <td>Pulou pergunta</td>\n",
       "      <td>Pulou pergunta</td>\n",
       "      <td>Pulou pergunta</td>\n",
       "      <td>Pulou pergunta</td>\n",
       "      <td>Pulou pergunta</td>\n",
       "    </tr>\n",
       "    <tr>\n",
       "      <th>16552</th>\n",
       "      <td>Masculino</td>\n",
       "      <td>15</td>\n",
       "      <td>Manhã</td>\n",
       "      <td>Não</td>\n",
       "      <td>Pulou pergunta</td>\n",
       "      <td>Pulou pergunta</td>\n",
       "      <td>Pulou pergunta</td>\n",
       "      <td>Pulou pergunta</td>\n",
       "      <td>Não usou outros</td>\n",
       "      <td>Pulou pergunta</td>\n",
       "      <td>Nenhum dia</td>\n",
       "      <td>Nenhum deles</td>\n",
       "    </tr>\n",
       "    <tr>\n",
       "      <th>16553</th>\n",
       "      <td>Masculino</td>\n",
       "      <td>13</td>\n",
       "      <td>Manhã</td>\n",
       "      <td>Não</td>\n",
       "      <td>Pulou pergunta</td>\n",
       "      <td>Pulou pergunta</td>\n",
       "      <td>Pulou pergunta</td>\n",
       "      <td>Pulou pergunta</td>\n",
       "      <td>Não usou outros</td>\n",
       "      <td>Pulou pergunta</td>\n",
       "      <td>7 dias</td>\n",
       "      <td>Só o pai fuma</td>\n",
       "    </tr>\n",
       "    <tr>\n",
       "      <th>16554</th>\n",
       "      <td>Masculino</td>\n",
       "      <td>14</td>\n",
       "      <td>Manhã</td>\n",
       "      <td>Não</td>\n",
       "      <td>Pulou pergunta</td>\n",
       "      <td>Pulou pergunta</td>\n",
       "      <td>Pulou pergunta</td>\n",
       "      <td>Pulou pergunta</td>\n",
       "      <td>Não usou outros</td>\n",
       "      <td>Pulou pergunta</td>\n",
       "      <td>3-4 dias</td>\n",
       "      <td>Só o pai fuma</td>\n",
       "    </tr>\n",
       "    <tr>\n",
       "      <th>16555</th>\n",
       "      <td>Masculino</td>\n",
       "      <td>15</td>\n",
       "      <td>Manhã</td>\n",
       "      <td>Não</td>\n",
       "      <td>Pulou pergunta</td>\n",
       "      <td>Pulou pergunta</td>\n",
       "      <td>Pulou pergunta</td>\n",
       "      <td>Pulou pergunta</td>\n",
       "      <td>Nenhum dia</td>\n",
       "      <td>Pulou pergunta</td>\n",
       "      <td>1-2 dias</td>\n",
       "      <td>Nenhum deles</td>\n",
       "    </tr>\n",
       "  </tbody>\n",
       "</table>\n",
       "<p>16556 rows × 12 columns</p>\n",
       "</div>"
      ],
      "text/plain": [
       "            Sexo  Idade Turno que estuda        Já fumou  \\\n",
       "0       Feminino     13            Manhã             Não   \n",
       "1       Feminino     14            Manhã             Não   \n",
       "2      Masculino     13            Manhã             Não   \n",
       "3      Masculino     14            Manhã             Não   \n",
       "4      Masculino     13            Manhã             Não   \n",
       "...          ...    ...              ...             ...   \n",
       "16551   Feminino     12            Manhã  Pulou pergunta   \n",
       "16552  Masculino     15            Manhã             Não   \n",
       "16553  Masculino     13            Manhã             Não   \n",
       "16554  Masculino     14            Manhã             Não   \n",
       "16555  Masculino     15            Manhã             Não   \n",
       "\n",
       "      Idade que fumou 1ª vez Dias que fumou 30d Como conseguiu 30d  \\\n",
       "0             Pulou pergunta     Pulou pergunta     Pulou pergunta   \n",
       "1             Pulou pergunta     Pulou pergunta     Pulou pergunta   \n",
       "2             Pulou pergunta     Pulou pergunta     Pulou pergunta   \n",
       "3             Pulou pergunta     Pulou pergunta     Pulou pergunta   \n",
       "4             Pulou pergunta     Pulou pergunta     Pulou pergunta   \n",
       "...                      ...                ...                ...   \n",
       "16551         Pulou pergunta     Pulou pergunta     Pulou pergunta   \n",
       "16552         Pulou pergunta     Pulou pergunta     Pulou pergunta   \n",
       "16553         Pulou pergunta     Pulou pergunta     Pulou pergunta   \n",
       "16554         Pulou pergunta     Pulou pergunta     Pulou pergunta   \n",
       "16555         Pulou pergunta     Pulou pergunta     Pulou pergunta   \n",
       "\n",
       "      Alguém recusou vender idade 30d Quantos dias outros produtos 30d  \\\n",
       "0                      Pulou pergunta                  Não usou outros   \n",
       "1                      Pulou pergunta                  Não usou outros   \n",
       "2                      Pulou pergunta                  Não usou outros   \n",
       "3                      Pulou pergunta                  Não usou outros   \n",
       "4                      Pulou pergunta                  Não usou outros   \n",
       "...                               ...                              ...   \n",
       "16551                  Pulou pergunta                   Pulou pergunta   \n",
       "16552                  Pulou pergunta                  Não usou outros   \n",
       "16553                  Pulou pergunta                  Não usou outros   \n",
       "16554                  Pulou pergunta                  Não usou outros   \n",
       "16555                  Pulou pergunta                       Nenhum dia   \n",
       "\n",
       "      Qual produto 30d Outras pessoas fumaram na presença 7d     Pais fumam?  \n",
       "0       Pulou pergunta                            Nenhum dia    Nenhum deles  \n",
       "1       Pulou pergunta                              1-2 dias   Só o pai fuma  \n",
       "2       Pulou pergunta                              1-2 dias    Nenhum deles  \n",
       "3       Pulou pergunta                            Nenhum dia    Nenhum deles  \n",
       "4       Pulou pergunta                              1-2 dias    Nenhum deles  \n",
       "...                ...                                   ...             ...  \n",
       "16551   Pulou pergunta                        Pulou pergunta  Pulou pergunta  \n",
       "16552   Pulou pergunta                            Nenhum dia    Nenhum deles  \n",
       "16553   Pulou pergunta                                7 dias   Só o pai fuma  \n",
       "16554   Pulou pergunta                              3-4 dias   Só o pai fuma  \n",
       "16555   Pulou pergunta                              1-2 dias    Nenhum deles  \n",
       "\n",
       "[16556 rows x 12 columns]"
      ]
     },
     "execution_count": 12,
     "metadata": {},
     "output_type": "execute_result"
    }
   ],
   "source": [
    "df"
   ]
  },
  {
   "cell_type": "code",
   "execution_count": 13,
   "metadata": {},
   "outputs": [],
   "source": [
    "perc_fumou = df['Já fumou'].value_counts(normalize=True)*100\n",
    "perc_idade = df['Idade'].value_counts(normalize=True)*100"
   ]
  },
  {
   "cell_type": "code",
   "execution_count": 14,
   "metadata": {},
   "outputs": [
    {
     "data": {
      "image/png": "[encoded data removed]",
      "text/plain": [
       "<Figure size 1008x288 with 3 Axes>"
      ]
     },
     "metadata": {
      "needs_background": "light"
     },
     "output_type": "display_data"
    }
   ],
   "source": [
    "fig, axs = plt.subplots(1,3, figsize = (14,4))\n",
    "fig.suptitle('Quantidade de adolescente que já fumaram, com a separação por gênero')\n",
    "sns.countplot(x = 'Já fumou', data = df, ax = axs[0])\n",
    "axs[0].set(xlabel='',ylabel='Quantidade')\n",
    "sns.countplot(x = 'Já fumou', data = df, hue = 'Sexo', ax = axs[1])\n",
    "axs[1].set(xlabel='',ylabel='')\n",
    "sns.barplot(x=perc_fumou.index,y=perc_fumou.values,ax = axs[2])\n",
    "axs[2].set(ylabel='Porcentagem')\n",
    "axs[2].yaxis.set_major_formatter(ticker.PercentFormatter())\n",
    "plt.show()"
   ]
  },
  {
   "cell_type": "markdown",
   "metadata": {},
   "source": [
    "## Aqui podemos ver que cerca de 20% dos estudantes já fumaram e que pouco menos de 30% não quiseram responder a pergunta, levantando uma hipótese do porquê eles não responderiam caso eles não fumasses, já que não há problema em responder que não.\n",
    "\n",
    "### Temos um conjunto bastante balanceado quanto ao sexo, e não há grandes diferenças se é do sexo Masculino ou Feminino."
   ]
  },
  {
   "cell_type": "code",
   "execution_count": 15,
   "metadata": {
    "scrolled": false
   },
   "outputs": [
    {
     "data": {
      "image/png": "[encoded data removed]",
      "text/plain": [
       "<Figure size 720x432 with 1 Axes>"
      ]
     },
     "metadata": {
      "needs_background": "light"
     },
     "output_type": "display_data"
    }
   ],
   "source": [
    "plt.figure(figsize=(10,6))\n",
    "plt.title('Separação de adolescentes que já fumaram por idade')\n",
    "ax = sns.countplot(x='Já fumou', data = df, hue = 'Idade')\n",
    "ax.set(ylabel = 'Contagem')\n",
    "plt.show()"
   ]
  },
  {
   "cell_type": "markdown",
   "metadata": {},
   "source": [
    "## Através desse gráfico, vemos que somente os alunos de 11 e 12 anos pularam a pergunta, e nenhum deles respondeu que sim ou que não. Talvez a pesquisa tenha direcionado para que esses alunos não respondessem a essa pergunta por serem muito novos, ou talvez todos eles tenham se sentido inseguros a responder.\n",
    "\n",
    "## A primeira hipótese parece fazer mais sentido, a de que a pesquisa não direcionou essa pergunta a esses alunos."
   ]
  },
  {
   "cell_type": "code",
   "execution_count": 16,
   "metadata": {},
   "outputs": [
    {
     "data": {
      "image/png": "[encoded data removed]",
      "text/plain": [
       "<Figure size 720x432 with 1 Axes>"
      ]
     },
     "metadata": {
      "needs_background": "light"
     },
     "output_type": "display_data"
    }
   ],
   "source": [
    "plt.figure(figsize=(10,6))\n",
    "plt.title('Separação de adolescentes que já fumaram por idade')\n",
    "ax = sns.countplot(x='Idade', data = df, hue = 'Já fumou')\n",
    "ax.set(ylabel = 'Contagem')\n",
    "plt.show()"
   ]
  },
  {
   "cell_type": "markdown",
   "metadata": {},
   "source": [
    "## Aqui vemos que a tendência é de aumentar a proporção entre fumou/não fumou a medida que a idade é maior, mas através desse gráfico não temos uma ideia tão clara, parece que a quantidade de alunos por idade não é tão homogênea após certa idade, mas ainda não sabemos ao certo essa distribuição."
   ]
  },
  {
   "cell_type": "code",
   "execution_count": 17,
   "metadata": {},
   "outputs": [
    {
     "data": {
      "image/png": "[encoded data removed]",
      "text/plain": [
       "<Figure size 720x432 with 1 Axes>"
      ]
     },
     "metadata": {
      "needs_background": "light"
     },
     "output_type": "display_data"
    }
   ],
   "source": [
    "plt.figure(figsize=(10,6))\n",
    "plt.title('Contagem de alunos por idade')\n",
    "sns.countplot(x = 'Idade', data = df)\n",
    "plt.show()"
   ]
  },
  {
   "cell_type": "code",
   "execution_count": 18,
   "metadata": {},
   "outputs": [
    {
     "data": {
      "image/png": "[encoded data removed]",
      "text/plain": [
       "<Figure size 720x432 with 1 Axes>"
      ]
     },
     "metadata": {
      "needs_background": "light"
     },
     "output_type": "display_data"
    }
   ],
   "source": [
    "plt.figure(figsize=(10,6))\n",
    "plt.title('Porcentagem de alunos por idade')\n",
    "ax = sns.barplot(x=perc_idade.index,y=perc_idade.values)\n",
    "ax.set(ylabel='Porcentagem', xlabel = 'Idade')\n",
    "ax.yaxis.set_major_formatter(ticker.PercentFormatter())"
   ]
  },
  {
   "cell_type": "markdown",
   "metadata": {},
   "source": [
    "## Aqui já temos uma boa ideia de como se comporta a distribuição dos alunos por idade e ela é mais ou menos homogênea até os 16-17 anos.\n",
    "\n",
    "### Vamos ver a porcentagem de alunos que fumam por idade e ver se é crescente/descrescente e qual essa taxa."
   ]
  },
  {
   "cell_type": "code",
   "execution_count": 19,
   "metadata": {},
   "outputs": [
    {
     "data": {
      "text/html": [
       "<div>\n",
       "<style scoped>\n",
       "    .dataframe tbody tr th:only-of-type {\n",
       "        vertical-align: middle;\n",
       "    }\n",
       "\n",
       "    .dataframe tbody tr th {\n",
       "        vertical-align: top;\n",
       "    }\n",
       "\n",
       "    .dataframe thead th {\n",
       "        text-align: right;\n",
       "    }\n",
       "</style>\n",
       "<table border=\"1\" class=\"dataframe\">\n",
       "  <thead>\n",
       "    <tr style=\"text-align: right;\">\n",
       "      <th></th>\n",
       "      <th>Total por idade</th>\n",
       "      <th>Fumantes</th>\n",
       "      <th>Percentual</th>\n",
       "    </tr>\n",
       "    <tr>\n",
       "      <th>Idade</th>\n",
       "      <th></th>\n",
       "      <th></th>\n",
       "      <th></th>\n",
       "    </tr>\n",
       "  </thead>\n",
       "  <tbody>\n",
       "    <tr>\n",
       "      <th>11</th>\n",
       "      <td>2072</td>\n",
       "      <td>0.0</td>\n",
       "      <td>0.000000</td>\n",
       "    </tr>\n",
       "    <tr>\n",
       "      <th>12</th>\n",
       "      <td>2634</td>\n",
       "      <td>0.0</td>\n",
       "      <td>0.000000</td>\n",
       "    </tr>\n",
       "    <tr>\n",
       "      <th>13</th>\n",
       "      <td>2561</td>\n",
       "      <td>316.0</td>\n",
       "      <td>12.338930</td>\n",
       "    </tr>\n",
       "    <tr>\n",
       "      <th>14</th>\n",
       "      <td>2133</td>\n",
       "      <td>443.0</td>\n",
       "      <td>20.768870</td>\n",
       "    </tr>\n",
       "    <tr>\n",
       "      <th>15</th>\n",
       "      <td>2425</td>\n",
       "      <td>533.0</td>\n",
       "      <td>21.979381</td>\n",
       "    </tr>\n",
       "    <tr>\n",
       "      <th>16</th>\n",
       "      <td>2270</td>\n",
       "      <td>625.0</td>\n",
       "      <td>27.533040</td>\n",
       "    </tr>\n",
       "    <tr>\n",
       "      <th>17</th>\n",
       "      <td>1537</td>\n",
       "      <td>513.0</td>\n",
       "      <td>33.376708</td>\n",
       "    </tr>\n",
       "    <tr>\n",
       "      <th>18</th>\n",
       "      <td>563</td>\n",
       "      <td>216.0</td>\n",
       "      <td>38.365897</td>\n",
       "    </tr>\n",
       "    <tr>\n",
       "      <th>19</th>\n",
       "      <td>361</td>\n",
       "      <td>157.0</td>\n",
       "      <td>43.490305</td>\n",
       "    </tr>\n",
       "  </tbody>\n",
       "</table>\n",
       "</div>"
      ],
      "text/plain": [
       "       Total por idade  Fumantes  Percentual\n",
       "Idade                                       \n",
       "11                2072       0.0    0.000000\n",
       "12                2634       0.0    0.000000\n",
       "13                2561     316.0   12.338930\n",
       "14                2133     443.0   20.768870\n",
       "15                2425     533.0   21.979381\n",
       "16                2270     625.0   27.533040\n",
       "17                1537     513.0   33.376708\n",
       "18                 563     216.0   38.365897\n",
       "19                 361     157.0   43.490305"
      ]
     },
     "execution_count": 19,
     "metadata": {},
     "output_type": "execute_result"
    }
   ],
   "source": [
    "total_por_idade = df.value_counts('Idade')\n",
    "somente_fumaram = df.loc[df['Já fumou']=='Sim'].value_counts('Idade')\n",
    "fum_id = pd.concat([total_por_idade,somente_fumaram],axis=1)\n",
    "fum_id.columns = ['Total por idade', 'Fumantes']\n",
    "fum_id.fillna(0)\n",
    "fum_id['Percentual'] = (fum_id['Fumantes']/fum_id['Total por idade'])*100\n",
    "fum_id.fillna(0)"
   ]
  },
  {
   "cell_type": "code",
   "execution_count": 20,
   "metadata": {},
   "outputs": [
    {
     "data": {
      "image/png": "[encoded data removed]",
      "text/plain": [
       "<Figure size 720x432 with 1 Axes>"
      ]
     },
     "metadata": {
      "needs_background": "light"
     },
     "output_type": "display_data"
    }
   ],
   "source": [
    "fig, ax = plt.subplots(figsize=(10,6),sharey= True)\n",
    "ax.plot(fum_id.index, fum_id['Percentual'])\n",
    "ax.bar(fum_id.index, fum_id['Percentual'], alpha = 0.4, color = ['green','yellow','orange','red','blue','purple','grey'])\n",
    "plt.title('Percentual de alunos que fumam por idade')\n",
    "ax.set(xlabel='Idade',ylabel='Porcentagem')\n",
    "ax.yaxis.set_major_formatter(ticker.PercentFormatter())\n",
    "plt.show();"
   ]
  },
  {
   "cell_type": "markdown",
   "metadata": {},
   "source": [
    "### Aqui conseguimos ver a taxa de crescimento ao longo da idade dos alunos que fumam, bem mais visível que nos gráficos anteriores.\n",
    "\n",
    "#### Vamos checar em que idade os alunos começaram a fumar."
   ]
  },
  {
   "cell_type": "code",
   "execution_count": 21,
   "metadata": {
    "scrolled": false
   },
   "outputs": [
    {
     "data": {
      "image/png": "[encoded data removed]",
      "text/plain": [
       "<Figure size 720x432 with 1 Axes>"
      ]
     },
     "metadata": {
      "needs_background": "light"
     },
     "output_type": "display_data"
    }
   ],
   "source": [
    "plt.figure(figsize=(10,6))\n",
    "plt.title('Contagem de alunos pela idade que fumaram pela 1ª vez')\n",
    "ax = sns.countplot(x = 'Idade que fumou 1ª vez', data = df, order = [7, 8, 9, 10, 11,12,13,14,15,16,17,18,'Não informado','Pulou pergunta'])\n",
    "ax.set(ylabel = 'Contagem')\n",
    "plt.show()"
   ]
  },
  {
   "cell_type": "markdown",
   "metadata": {},
   "source": [
    "### Aqui não conseguimos tirar nenhuma conclusão, uma vez que a quantidade de pessoas que pularam a pergunta foi muito alta, levantando mais uma hipótese de não terem se sentido confortáveis em responder a esse tipo de pergunta.\n",
    "\n",
    "#### Vamos eliminar esse valor discrepante para conseguir analisar as outras informações."
   ]
  },
  {
   "cell_type": "code",
   "execution_count": 22,
   "metadata": {},
   "outputs": [
    {
     "data": {
      "image/png": "[encoded data removed]",
      "text/plain": [
       "<Figure size 720x432 with 1 Axes>"
      ]
     },
     "metadata": {
      "needs_background": "light"
     },
     "output_type": "display_data"
    }
   ],
   "source": [
    "plt.figure(figsize=(10,6))\n",
    "plt.title('Contagem de alunos pela idade que fumaram pela 1ª vez')\n",
    "ax = sns.countplot(x = 'Idade que fumou 1ª vez', data = df, order = [7, 8, 9, 10, 11,12,13,14,15,16,17,18])\n",
    "ax.set(ylabel = 'Contagem')\n",
    "plt.show()"
   ]
  },
  {
   "cell_type": "code",
   "execution_count": 23,
   "metadata": {},
   "outputs": [
    {
     "data": {
      "image/png": "[encoded data removed]",
      "text/plain": [
       "<Figure size 720x432 with 1 Axes>"
      ]
     },
     "metadata": {
      "needs_background": "light"
     },
     "output_type": "display_data"
    }
   ],
   "source": [
    "plt.figure(figsize=(10,6))\n",
    "plt.title('Contagem de alunos pela idade que fumaram pela 1ª vez com divisão de gênero')\n",
    "ax = sns.countplot(x = 'Idade que fumou 1ª vez', data = df, order = [7, 8, 9, 10, 11,12,13,14,15,16,17,18], hue = 'Sexo')\n",
    "ax.set(ylabel = 'Contagem')\n",
    "plt.show()"
   ]
  },
  {
   "cell_type": "markdown",
   "metadata": {},
   "source": [
    "### Agora conseguimos observar que há uma concentração nas idades entre 13 a 15 anos dentre as pessoas que responderam e isso pode refletir na faixa etária mediana de onde os adolescentes começam a fumar.\n",
    "\n",
    "#### Mas há ainda muitos dados onde relatam que começaram a fumar por volta de 7 anos de idade. O que é algo muito preocupante para a saúde dessas crianças."
   ]
  },
  {
   "cell_type": "code",
   "execution_count": 24,
   "metadata": {},
   "outputs": [
    {
     "data": {
      "image/png": "[encoded data removed]",
      "text/plain": [
       "<Figure size 720x432 with 1 Axes>"
      ]
     },
     "metadata": {
      "needs_background": "light"
     },
     "output_type": "display_data"
    }
   ],
   "source": [
    "plt.figure(figsize = (10,6))\n",
    "plt.title('Quantidade de alunos por turno')\n",
    "ax = sns.countplot(x='Turno que estuda', data = df)\n",
    "ax.set(ylabel='Quantidade')\n",
    "plt.show()"
   ]
  },
  {
   "cell_type": "code",
   "execution_count": 25,
   "metadata": {},
   "outputs": [
    {
     "data": {
      "image/png": "[encoded data removed]",
      "text/plain": [
       "<Figure size 720x432 with 1 Axes>"
      ]
     },
     "metadata": {
      "needs_background": "light"
     },
     "output_type": "display_data"
    }
   ],
   "source": [
    "plt.figure(figsize = (10,6))\n",
    "plt.title('Quantidade de alunos por turno e separação dos que fumam e não fumam')\n",
    "ax = sns.countplot(x='Turno que estuda', data = df, hue = 'Já fumou')\n",
    "plt.legend(loc=1)\n",
    "ax.set(ylabel='Quantidade')\n",
    "plt.show()"
   ]
  },
  {
   "cell_type": "code",
   "execution_count": 26,
   "metadata": {},
   "outputs": [
    {
     "data": {
      "text/html": [
       "<div>\n",
       "<style scoped>\n",
       "    .dataframe tbody tr th:only-of-type {\n",
       "        vertical-align: middle;\n",
       "    }\n",
       "\n",
       "    .dataframe tbody tr th {\n",
       "        vertical-align: top;\n",
       "    }\n",
       "\n",
       "    .dataframe thead th {\n",
       "        text-align: right;\n",
       "    }\n",
       "</style>\n",
       "<table border=\"1\" class=\"dataframe\">\n",
       "  <thead>\n",
       "    <tr style=\"text-align: right;\">\n",
       "      <th></th>\n",
       "      <th>Total por turno</th>\n",
       "      <th>Fumantes</th>\n",
       "      <th>Percentual</th>\n",
       "    </tr>\n",
       "  </thead>\n",
       "  <tbody>\n",
       "    <tr>\n",
       "      <th>Manhã</th>\n",
       "      <td>9198</td>\n",
       "      <td>1439.0</td>\n",
       "      <td>15.644705</td>\n",
       "    </tr>\n",
       "    <tr>\n",
       "      <th>Tarde</th>\n",
       "      <td>5362</td>\n",
       "      <td>751.0</td>\n",
       "      <td>14.005968</td>\n",
       "    </tr>\n",
       "    <tr>\n",
       "      <th>Noite</th>\n",
       "      <td>1258</td>\n",
       "      <td>477.0</td>\n",
       "      <td>37.917329</td>\n",
       "    </tr>\n",
       "    <tr>\n",
       "      <th>Integral</th>\n",
       "      <td>651</td>\n",
       "      <td>124.0</td>\n",
       "      <td>19.047619</td>\n",
       "    </tr>\n",
       "    <tr>\n",
       "      <th>Intermediário</th>\n",
       "      <td>83</td>\n",
       "      <td>12.0</td>\n",
       "      <td>14.457831</td>\n",
       "    </tr>\n",
       "    <tr>\n",
       "      <th>Não informado</th>\n",
       "      <td>4</td>\n",
       "      <td>0.0</td>\n",
       "      <td>0.000000</td>\n",
       "    </tr>\n",
       "  </tbody>\n",
       "</table>\n",
       "</div>"
      ],
      "text/plain": [
       "               Total por turno  Fumantes  Percentual\n",
       "Manhã                     9198    1439.0   15.644705\n",
       "Tarde                     5362     751.0   14.005968\n",
       "Noite                     1258     477.0   37.917329\n",
       "Integral                   651     124.0   19.047619\n",
       "Intermediário               83      12.0   14.457831\n",
       "Não informado                4       0.0    0.000000"
      ]
     },
     "execution_count": 26,
     "metadata": {},
     "output_type": "execute_result"
    }
   ],
   "source": [
    "total_por_turno = df.value_counts('Turno que estuda')\n",
    "somente_fumaram = df.loc[df['Já fumou']=='Sim'].value_counts('Turno que estuda')\n",
    "fum_id = pd.concat([total_por_turno,somente_fumaram],axis=1)\n",
    "fum_id.columns = ['Total por turno', 'Fumantes']\n",
    "fum_id.fillna(0)\n",
    "fum_id['Percentual'] = (fum_id['Fumantes']/fum_id['Total por turno'])*100\n",
    "fum_id.fillna(0)"
   ]
  },
  {
   "cell_type": "code",
   "execution_count": 27,
   "metadata": {},
   "outputs": [
    {
     "data": {
      "image/png": "[encoded data removed]",
      "text/plain": [
       "<Figure size 720x432 with 1 Axes>"
      ]
     },
     "metadata": {
      "needs_background": "light"
     },
     "output_type": "display_data"
    }
   ],
   "source": [
    "plt.figure(figsize = (10,6))\n",
    "plt.title('Quantidade de alunos por turno e separação pela idade')\n",
    "ax = sns.countplot(x='Turno que estuda', data = df, hue = 'Idade')\n",
    "plt.legend(loc=1)\n",
    "ax.set(ylabel='Quantidade')\n",
    "plt.show()"
   ]
  },
  {
   "cell_type": "markdown",
   "metadata": {},
   "source": [
    "## Vemos através dos gráficos e da tabela que a proporção de alunos da noite são mais velhos e isso reflete o porquê de os alunos do turno da noite ter uma proporção maior de fumantes em relação a não fumantes (Em proporção e não quantidade)."
   ]
  },
  {
   "cell_type": "code",
   "execution_count": 28,
   "metadata": {},
   "outputs": [
    {
     "data": {
      "image/png": "[encoded data removed]",
      "text/plain": [
       "<Figure size 720x432 with 1 Axes>"
      ]
     },
     "metadata": {
      "needs_background": "light"
     },
     "output_type": "display_data"
    }
   ],
   "source": [
    "plt.figure(figsize=(10,6))\n",
    "ax = sns.countplot(x='Outras pessoas fumaram na presença 7d', data = df, hue = 'Já fumou',order=['Nenhum dia','1-2 dias','3-4 dias','5-6 dias','7 dias', 'Pulou pergunta'])\n",
    "plt.title('Influência de outras pessoas nos últimos 7 dias')\n",
    "ax.set(ylabel='Contagem', xlabel = 'Quantidade de dias')\n",
    "ax.legend(loc=9)\n",
    "plt.show()"
   ]
  },
  {
   "cell_type": "code",
   "execution_count": 29,
   "metadata": {
    "scrolled": true
   },
   "outputs": [
    {
     "data": {
      "text/html": [
       "<div>\n",
       "<style scoped>\n",
       "    .dataframe tbody tr th:only-of-type {\n",
       "        vertical-align: middle;\n",
       "    }\n",
       "\n",
       "    .dataframe tbody tr th {\n",
       "        vertical-align: top;\n",
       "    }\n",
       "\n",
       "    .dataframe thead th {\n",
       "        text-align: right;\n",
       "    }\n",
       "</style>\n",
       "<table border=\"1\" class=\"dataframe\">\n",
       "  <thead>\n",
       "    <tr style=\"text-align: right;\">\n",
       "      <th></th>\n",
       "      <th>Influência 7 dias</th>\n",
       "      <th>Fumantes</th>\n",
       "      <th>Percentual</th>\n",
       "    </tr>\n",
       "  </thead>\n",
       "  <tbody>\n",
       "    <tr>\n",
       "      <th>Pulou pergunta</th>\n",
       "      <td>4706</td>\n",
       "      <td>0.0</td>\n",
       "      <td>0.000000</td>\n",
       "    </tr>\n",
       "    <tr>\n",
       "      <th>Não informado</th>\n",
       "      <td>36</td>\n",
       "      <td>5.0</td>\n",
       "      <td>13.888889</td>\n",
       "    </tr>\n",
       "    <tr>\n",
       "      <th>Nenhum dia</th>\n",
       "      <td>5987</td>\n",
       "      <td>881.0</td>\n",
       "      <td>14.715216</td>\n",
       "    </tr>\n",
       "    <tr>\n",
       "      <th>1-2 dias</th>\n",
       "      <td>2662</td>\n",
       "      <td>671.0</td>\n",
       "      <td>25.206612</td>\n",
       "    </tr>\n",
       "    <tr>\n",
       "      <th>3-4 dias</th>\n",
       "      <td>942</td>\n",
       "      <td>321.0</td>\n",
       "      <td>34.076433</td>\n",
       "    </tr>\n",
       "    <tr>\n",
       "      <th>5-6 dias</th>\n",
       "      <td>466</td>\n",
       "      <td>195.0</td>\n",
       "      <td>41.845494</td>\n",
       "    </tr>\n",
       "    <tr>\n",
       "      <th>7 dias</th>\n",
       "      <td>1757</td>\n",
       "      <td>730.0</td>\n",
       "      <td>41.548093</td>\n",
       "    </tr>\n",
       "  </tbody>\n",
       "</table>\n",
       "</div>"
      ],
      "text/plain": [
       "                Influência 7 dias  Fumantes  Percentual\n",
       "Pulou pergunta               4706       0.0    0.000000\n",
       "Não informado                  36       5.0   13.888889\n",
       "Nenhum dia                   5987     881.0   14.715216\n",
       "1-2 dias                     2662     671.0   25.206612\n",
       "3-4 dias                      942     321.0   34.076433\n",
       "5-6 dias                      466     195.0   41.845494\n",
       "7 dias                       1757     730.0   41.548093"
      ]
     },
     "execution_count": 29,
     "metadata": {},
     "output_type": "execute_result"
    }
   ],
   "source": [
    "total_influencia = df.value_counts('Outras pessoas fumaram na presença 7d')\n",
    "somente_fumaram = df.loc[df['Já fumou']=='Sim'].value_counts('Outras pessoas fumaram na presença 7d')\n",
    "fum_id = pd.concat([total_influencia,somente_fumaram],axis=1)\n",
    "fum_id.columns = ['Influência 7 dias', 'Fumantes']\n",
    "fum_id['Percentual'] = (fum_id['Fumantes']/fum_id['Influência 7 dias'])*100\n",
    "fum_id = fum_id.fillna(0)\n",
    "fum_id['Ordenar'] = [2,0,3,6,4,5,1]\n",
    "fum_id = fum_id.sort_values('Ordenar')\n",
    "fum_id.pop('Ordenar')\n",
    "fum_id"
   ]
  },
  {
   "cell_type": "code",
   "execution_count": 30,
   "metadata": {},
   "outputs": [
    {
     "data": {
      "image/png": "[encoded data removed]",
      "text/plain": [
       "<Figure size 720x432 with 1 Axes>"
      ]
     },
     "metadata": {
      "needs_background": "light"
     },
     "output_type": "display_data"
    }
   ],
   "source": [
    "plt.figure(figsize = (10,6))\n",
    "plt.title('Porcentagem de pessoas que já fumaram em relação ao contato com outras pessoas que fumam nos últimos 7 dias')\n",
    "ax = sns.lineplot(x = fum_id.index,y = 'Percentual', data = fum_id)\n",
    "plt.grid(axis = 'y', alpha = 0.6)\n",
    "ax.yaxis.set_major_formatter(ticker.PercentFormatter())"
   ]
  },
  {
   "cell_type": "markdown",
   "metadata": {},
   "source": [
    "## Aqui vemos mais claramente a influência ao ter contato diariamente com pessoas que fumam. Quanto mais tempo em contato com pessoas que fumam, maior a porcentagem de alunos que já fumaram alguma vez na vida."
   ]
  },
  {
   "cell_type": "code",
   "execution_count": 31,
   "metadata": {},
   "outputs": [
    {
     "data": {
      "image/png": "[encoded data removed]",
      "text/plain": [
       "<Figure size 864x720 with 2 Axes>"
      ]
     },
     "metadata": {
      "needs_background": "light"
     },
     "output_type": "display_data"
    }
   ],
   "source": [
    "fig, axs = plt.subplots(2,1, figsize = (12,10))\n",
    "fig.suptitle('')\n",
    "sns.countplot(x = 'Pais fumam?', data = df, ax = axs[0])\n",
    "sns.countplot(x = 'Pais fumam?', data = df, hue = 'Já fumou', ax = axs[1])\n",
    "axs[0].set(xlabel='',ylabel='Quantidade')\n",
    "axs[1].set(xlabel='',ylabel='Quantidade')\n",
    "plt.show()"
   ]
  },
  {
   "cell_type": "code",
   "execution_count": 32,
   "metadata": {},
   "outputs": [
    {
     "data": {
      "text/html": [
       "<div>\n",
       "<style scoped>\n",
       "    .dataframe tbody tr th:only-of-type {\n",
       "        vertical-align: middle;\n",
       "    }\n",
       "\n",
       "    .dataframe tbody tr th {\n",
       "        vertical-align: top;\n",
       "    }\n",
       "\n",
       "    .dataframe thead th {\n",
       "        text-align: right;\n",
       "    }\n",
       "</style>\n",
       "<table border=\"1\" class=\"dataframe\">\n",
       "  <thead>\n",
       "    <tr style=\"text-align: right;\">\n",
       "      <th></th>\n",
       "      <th>Influência dos pais</th>\n",
       "      <th>Fumantes</th>\n",
       "      <th>Percentual</th>\n",
       "    </tr>\n",
       "  </thead>\n",
       "  <tbody>\n",
       "    <tr>\n",
       "      <th>Nenhum deles</th>\n",
       "      <td>8688</td>\n",
       "      <td>1754.0</td>\n",
       "      <td>20.188766</td>\n",
       "    </tr>\n",
       "    <tr>\n",
       "      <th>Pulou pergunta</th>\n",
       "      <td>4706</td>\n",
       "      <td>0.0</td>\n",
       "      <td>0.000000</td>\n",
       "    </tr>\n",
       "    <tr>\n",
       "      <th>Só o pai fuma</th>\n",
       "      <td>1470</td>\n",
       "      <td>449.0</td>\n",
       "      <td>30.544218</td>\n",
       "    </tr>\n",
       "    <tr>\n",
       "      <th>Só a mãe fuma</th>\n",
       "      <td>925</td>\n",
       "      <td>318.0</td>\n",
       "      <td>34.378378</td>\n",
       "    </tr>\n",
       "    <tr>\n",
       "      <th>Os dois fumam</th>\n",
       "      <td>469</td>\n",
       "      <td>199.0</td>\n",
       "      <td>42.430704</td>\n",
       "    </tr>\n",
       "    <tr>\n",
       "      <th>Não sabe</th>\n",
       "      <td>268</td>\n",
       "      <td>78.0</td>\n",
       "      <td>29.104478</td>\n",
       "    </tr>\n",
       "    <tr>\n",
       "      <th>Não informado</th>\n",
       "      <td>30</td>\n",
       "      <td>5.0</td>\n",
       "      <td>16.666667</td>\n",
       "    </tr>\n",
       "  </tbody>\n",
       "</table>\n",
       "</div>"
      ],
      "text/plain": [
       "                Influência dos pais  Fumantes  Percentual\n",
       "Nenhum deles                   8688    1754.0   20.188766\n",
       "Pulou pergunta                 4706       0.0    0.000000\n",
       "Só o pai fuma                  1470     449.0   30.544218\n",
       "Só a mãe fuma                   925     318.0   34.378378\n",
       "Os dois fumam                   469     199.0   42.430704\n",
       "Não sabe                        268      78.0   29.104478\n",
       "Não informado                    30       5.0   16.666667"
      ]
     },
     "execution_count": 32,
     "metadata": {},
     "output_type": "execute_result"
    }
   ],
   "source": [
    "total_influencia_pais = df.value_counts('Pais fumam?')\n",
    "somente_fumaram = df.loc[df['Já fumou']=='Sim'].value_counts('Pais fumam?')\n",
    "fum_id = pd.concat([total_influencia_pais,somente_fumaram],axis=1)\n",
    "fum_id.columns = ['Influência dos pais', 'Fumantes']\n",
    "fum_id['Percentual'] = (fum_id['Fumantes']/fum_id['Influência dos pais'])*100\n",
    "fum_id = fum_id.fillna(0)\n",
    "fum_id"
   ]
  },
  {
   "cell_type": "code",
   "execution_count": 33,
   "metadata": {},
   "outputs": [
    {
     "data": {
      "image/png": "[encoded data removed]",
      "text/plain": [
       "<Figure size 720x432 with 1 Axes>"
      ]
     },
     "metadata": {
      "needs_background": "light"
     },
     "output_type": "display_data"
    }
   ],
   "source": [
    "plt.figure(figsize=(10,6))\n",
    "ax = sns.barplot(x = fum_id.index, y='Percentual', data = fum_id)\n",
    "plt.grid(axis = 'y', alpha = 0.6)\n",
    "ax.yaxis.set_major_formatter(ticker.PercentFormatter())"
   ]
  },
  {
   "cell_type": "markdown",
   "metadata": {},
   "source": [
    "## Para finalizar, vemos que a influência dos pais também é significativa, visto que se o pai fuma ou a mãe fuma, há uma tendência maior para que o aluno já tenha fumado alguma vez, e se ambos os pais fumam essa tendência é ainda maior.\n",
    "\n",
    "### Talvez essa tenha sido a origem para que o aluno tenha começado a fumar ou tenha sido influenciado por outros alunos na escola, mas ainda assim o fato de os pais já serem fumantes acaba criando uma visão de aquilo não ser tão negativo e facilitar o acesso daquele aluno à prática de fumar."
   ]
  },
  {
   "cell_type": "code",
   "execution_count": null,
   "metadata": {},
   "outputs": [],
   "source": []
  }
 ],
 "metadata": {
  "kernelspec": {
   "display_name": "Python 3",
   "language": "python",
   "name": "python3"
  },
  "language_info": {
   "codemirror_mode": {
    "name": "ipython",
    "version": 3
   },
   "file_extension": ".py",
   "mimetype": "text/x-python",
   "name": "python",
   "nbconvert_exporter": "python",
   "pygments_lexer": "ipython3",
   "version": "3.8.5"
  }
 },
 "nbformat": 4,
 "nbformat_minor": 4
}
